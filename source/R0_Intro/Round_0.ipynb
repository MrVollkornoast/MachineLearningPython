{
 "cells": [
  {
   "cell_type": "markdown",
   "metadata": {},
   "source": [
    "<a id='Q1'></a>\n",
    "<div class=\" alert alert-info\"> \n",
    "    \n",
    "# <center>Introduction to Python</center>\n",
    "    \n",
    "</div>"
   ]
  },
  {
   "cell_type": "markdown",
   "metadata": {},
   "source": [
    "This notebook provides a quick introduction to the programming language Pyhton. You will learn how to load, manipulate and visualize data. In particular, you will learn about: \n",
    "\n",
    "<a href='#Q1'>Python Libraries</a>\n",
    "\n",
    "<a href='#Q2'>Built-in Functions in Python</a>\n",
    "\n",
    "<a href='#Q3'>Immutable Data Types</a>\n",
    "\n",
    "<a href='#Q4'>Iterations</a>\n",
    "\n",
    "<a href='#Q5'>NumPy Arrays</a>\n",
    "\n",
    "<a href='#Q6'>Matrices in Numpy</a>\n",
    "\n",
    "<a href='#Q7'>Plotting with matplotlib</a>\n",
    "\n",
    "<a href='#Q8'>User defined functions</a>\n",
    "\n",
    "<a href='#Q9'>Measuring execution time</a>\n",
    "\n",
    "<a href='#Q10'>Dictionaries and Dataframes </a>\n",
    "\n",
    "<a href='#Q11'>Loading Data</a>\n",
    "\n",
    "<a href='#Q12'>Working with images using Numpy</a>"
   ]
  },
  {
   "cell_type": "markdown",
   "metadata": {},
   "source": [
    "<a id='Q1'></a>\n",
    "<div class=\" alert alert-info\"> \n",
    "    \n",
    "# <center>Python Libraries</center>\n",
    "    \n",
    "</div>"
   ]
  },
  {
   "cell_type": "markdown",
   "metadata": {},
   "source": [
    "Python programs can import functions from libraries or so called packages. Some of the most commonly used Pyhton libraries are:\n",
    "\n",
    "\n",
    "**NumPy** - (Numerical Python) for operations involving arrays of numbers. One-dimensional numpy arrays are used to represent Euclidean vectors. Two-dimensional numpy arrays can represent matrices and higher-dimensional arrays represent tensors.\n",
    "\n",
    "https://numpy.org/\n",
    "\n",
    "**Pandas** - This library provides functions for reading in data from files and also functions for data visualization. \n",
    "\n",
    "https://pandas.pydata.org/docs/\n",
    "\n",
    "**Matplotlib and Seaborn** - This library provides more powerful tools for data visualization such as plotting time series or images. \n",
    "\n",
    "https://matplotlib.org/3.1.1/contents.html\n",
    "\n",
    "https://seaborn.pydata.org/\n",
    "\n",
    "**PIL** - (Python Image Library) This library provides methods for reading in image data from files or converting between different image formats. \n",
    "\n",
    "https://python-pillow.org/\n",
    "\n",
    "**OpenCV** - This library provides computer vision methods such as edge detectors. \n",
    "\n",
    "https://opencv.org/\n",
    "\n",
    "\n",
    "**Scikit-learn** - This library provides implementations of several basic machine learning methods, such as linear regression, decision trees and clustering methods. \n",
    "\n",
    "https://scikit-learn.org/stable/\n",
    "\n",
    "\n"
   ]
  },
  {
   "cell_type": "markdown",
   "metadata": {},
   "source": [
    " <b><center><font size=4>How To Use A Python Library</font></center></b>"
   ]
  },
  {
   "cell_type": "markdown",
   "metadata": {},
   "source": [
    "In order to make use of the functions provided by a library, it must first be imported via the command\n",
    "\n",
    "`import <library name> as <short name>`\n",
    "\n",
    "for example\n",
    "\n",
    "`import numpy as np`\n",
    "\n",
    "Missing imports of libraries are the main cause of error message\n",
    "\n",
    "`NameError: <short name> is not defined`\n",
    "\n",
    "The error message\n",
    "\n",
    "`NameError: np is not defined`\n",
    "\n",
    "arises if a function of a library \"np\" is used, where the library has not been imported beforehand. "
   ]
  },
  {
   "cell_type": "markdown",
   "metadata": {},
   "source": [
    "<a id='Q2'></a>\n",
    "<div class=\" alert alert-info\">  \n",
    "    \n",
    "# <center>Built-In Functions in Python</center>\n",
    "</div>"
   ]
  },
  {
   "cell_type": "markdown",
   "metadata": {},
   "source": [
    "Beside functions provided by libraries, Python also provides several built-in functions. One example of a built-in function is `print(a)` which displays the value of the variable `a`. Another built-in function is `enumerate()` which creates an indexed list for a given sequence. You can find an overview of built-in functions here: \n",
    "\n",
    "https://docs.python.org/3/library/functions.html"
   ]
  },
  {
   "cell_type": "markdown",
   "metadata": {},
   "source": [
    "<a id='Q3'></a>\n",
    "<div class=\" alert alert-info\"> \n",
    "    \n",
    "# <center>Immutable Data Types</center>\n",
    "    \n",
    "</div>"
   ]
  },
  {
   "cell_type": "markdown",
   "metadata": {},
   "source": [
    "Python distinguishes between mutable and immutable objects or variables. An immutable object cannot be modified after it has been created. One important example of an immutable object is `range(n)` which is a sequence of n numbers starting at 0. See https://docs.python.org/3/library/stdtypes.html#range for more information. \n",
    "\n",
    "In particular, you can create a sequence of numbers using the built-in function  \n",
    "`range(start, stop[, step])`\n",
    "This built-in function creates the sequence [start,start+step,start+2*step,...]. If the argument `step` is omitted, it defaults to 1. If the `start` argument is omitted, it defaults to 0. "
   ]
  },
  {
   "cell_type": "markdown",
   "metadata": {},
   "source": [
    "<div class=\" alert alert-danger\"> \n",
    "    \n",
    "<center><font size=\"5\"><b>Caution!</b></font></center>\n",
    "    \n",
    "<p><center><font size=\"4\">In <code>range(stop)</code> the sequence starts from 0 and does not include stop value </font></center></p>\n",
    "    \n",
    "</div>"
   ]
  },
  {
   "cell_type": "code",
   "execution_count": null,
   "metadata": {},
   "outputs": [],
   "source": [
    "# create 'range' object which represents a sequence 0,1,...,9\n",
    "myrange = range(10)\n",
    "# create list from iterable 'range' object\n",
    "mylist  = list(myrange)\n",
    "# print objects and their data type\n",
    "print(\"myrange =\", myrange, \"data type =\", type(myrange))\n",
    "print(\"mylist =\", mylist, \"data type =\", type(mylist))"
   ]
  },
  {
   "cell_type": "code",
   "execution_count": null,
   "metadata": {},
   "outputs": [],
   "source": [
    "# Start and stop arguments are passed\n",
    "\n",
    "mylist = list(range(1,11))\n",
    "mylist"
   ]
  },
  {
   "cell_type": "code",
   "execution_count": null,
   "metadata": {},
   "outputs": [],
   "source": [
    "# Start, stop and step arguments are passed\n",
    "\n",
    "mylist = list(range(0,10,2))\n",
    "mylist"
   ]
  },
  {
   "cell_type": "markdown",
   "metadata": {},
   "source": [
    "<a id='Q4'></a>\n",
    "<div class=\" alert alert-info\"> \n",
    "    \n",
    "# <center>Iterations</center>\n",
    "\n",
    "    \n",
    "</div>"
   ]
  },
  {
   "cell_type": "markdown",
   "metadata": {},
   "source": [
    "One of the main use of `range` data type is to create loops that iterate over a seqeunce of values. "
   ]
  },
  {
   "cell_type": "code",
   "execution_count": null,
   "metadata": {},
   "outputs": [],
   "source": [
    "# create a sequence consisting of four words \n",
    "some_sequence = [\"hi\",\"how\",\"are\",\"you\"]\n",
    "\n",
    "# loop over the sequence of elements \n",
    "for word in some_sequence:\n",
    "    print(word)"
   ]
  },
  {
   "cell_type": "markdown",
   "metadata": {},
   "source": [
    "<div class=\" alert alert-danger\"> \n",
    "    \n",
    "<center><font size=\"5\"><b>Caution!</b></font></center>\n",
    "\n",
    "<p><center><font size=\"4\">Indexing in Python starts by default at 0 (and not at 1!)</font></center></p>\n",
    "    \n",
    "</div>"
   ]
  },
  {
   "cell_type": "code",
   "execution_count": null,
   "metadata": {},
   "outputs": [],
   "source": [
    "# create a sequence consisting of four words\n",
    "some_sequence =  [\"hi\",\"how\",\"are\",\"you\"]\n",
    "# find the length of the list\n",
    "length = len(some_sequence)\n",
    "\n",
    "# loop over the sequence of indices (0,1,2,3)\n",
    "for i in range(length):\n",
    "    print(\"index: {} value: {}\".format(i, some_sequence[i]))  "
   ]
  },
  {
   "cell_type": "code",
   "execution_count": null,
   "metadata": {},
   "outputs": [],
   "source": [
    "# Nested for loops\n",
    "\n",
    "# create a list \n",
    "mylist = [[1,2,3],[4,5,6],[7,8,9]]\n",
    "\n",
    "# outer loop\n",
    "for i in range(len(mylist)):\n",
    "    print(\"\\nouter loop index: {}  values: {}\\n \".format(i, mylist[i]))\n",
    "    \n",
    "    # inner loop\n",
    "    for j in range(len(mylist[0])):\n",
    "        print(\"inner loop index: {}  value: {} \".format(j, mylist[i][j]))\n"
   ]
  },
  {
   "cell_type": "code",
   "execution_count": null,
   "metadata": {
    "scrolled": true
   },
   "outputs": [],
   "source": [
    "# Iterating with enumerate() \n",
    "# It takes as an input iterable object and returns tuple in a form of (index, element) \n",
    "\n",
    "# create a list \n",
    "some_sequence =  [\"hi\",\"how\",\"are\",\"you\"]\n",
    "\n",
    "# loop over elements of a list \n",
    "for ind, val in enumerate(some_sequence):\n",
    "    print(\"index: {} value: {}\".format(ind, val))  "
   ]
  },
  {
   "cell_type": "markdown",
   "metadata": {},
   "source": [
    "if you need to iterate over two sequences of the same size, you can use the built-in function `zip()`"
   ]
  },
  {
   "cell_type": "code",
   "execution_count": null,
   "metadata": {},
   "outputs": [],
   "source": [
    "# Iterating multiple lists with zip()\n",
    "\n",
    "# create lists\n",
    "some_sequence =  [\"one\",\"two\",\"three\",\"four\"]\n",
    "another_sequence =  [\"eins\",\"zwei\",\"drei\",\"vier\"]\n",
    "\n",
    "# loop over two lists at the same time\n",
    "for val1, val2 in zip(some_sequence, another_sequence):\n",
    "    print(val1, val2)"
   ]
  },
  {
   "cell_type": "code",
   "execution_count": null,
   "metadata": {},
   "outputs": [],
   "source": [
    "# Iterating multiple lists with zip() and enumerate()\n",
    "\n",
    "# create lists\n",
    "some_sequence =  [\"one\",\"two\",\"three\",\"four\"]\n",
    "another_sequence =  [\"eins\",\"zwei\",\"drei\",\"vier\"]\n",
    "\n",
    "# loop over two lists at the same time\n",
    "for ind, (val1, val2) in enumerate(zip(some_sequence, another_sequence)):\n",
    "    print(\"index: {} \\nvalue mylist1: {}, value mylist2: {}\".format(ind, val1, val2))  "
   ]
  },
  {
   "cell_type": "markdown",
   "metadata": {},
   "source": [
    "<a id='Q5'></a>\n",
    "<div class=\" alert alert-info\"> \n",
    "    \n",
    "# <center>Numpy Arrays</center>\n",
    "    \n",
    "</div>"
   ]
  },
  {
   "cell_type": "markdown",
   "metadata": {},
   "source": [
    "The Python library `numpy` provides implementations of many matrix operations as well as other useful features, such as random number generators. Many functions of this libary are based on the data type \"numpy array\". A numpy array is an object that stores $N$-dimensional arrays of numbers where $N$ is the number of dimensions. The shape of a numpy array is given by a sequence of $N$ integers that indicate the number of \"elements\" in each dimension. Maybe the most important special case of numpy arrays is when $N=1$, corresponding to vectors, or when $N=2$ for matrices. A matrix with $5$ rows and $2$ columns is represented by a numpy array of shape $(5,2)$. \n",
    "\n",
    "Some additional resources to learn more about `numpy` arrays and related operations can be found here:\n",
    "\n",
    "https://numpy.org/\n",
    "\n",
    "https://www.youtube.com/watch?v=xECXZ3tyONo\n",
    "\n",
    "Using NumPy arrays allows for **vectorized computation** which allows, in turn, faster code execution \n",
    "\n",
    "https://www.pythonlikeyoumeanit.com/Module3_IntroducingNumpy/VectorizedOperations.html\n",
    "\n",
    "https://www.oreilly.com/library/view/python-for-data/9781449323592/ch04.html"
   ]
  },
  {
   "cell_type": "markdown",
   "metadata": {},
   "source": [
    "**<center><font size=\"4\">Creating NumPy Arrays</font></center>**"
   ]
  },
  {
   "cell_type": "code",
   "execution_count": null,
   "metadata": {},
   "outputs": [],
   "source": [
    "# import the library \"numpy\" which provides functions for matrices and vectors \n",
    "import numpy as np\n",
    "\n",
    "# convert a sequence 0,1,..,9 to a numpy array `myarray1`\n",
    "mylist  = [0,1,2,3,4,5,6,7,8,9]\n",
    "myarray1 = np.array(mylist)\n",
    "\n",
    "# use range() to create a numpy array\n",
    "myarray2 = np.array(range(10))\n",
    "\n",
    "# use np.arange() function to create a numpy array\n",
    "myarray3 = np.arange(10)\n",
    "\n",
    "# print values of the arrays\n",
    "myarray1, myarray2, myarray3"
   ]
  },
  {
   "cell_type": "code",
   "execution_count": null,
   "metadata": {},
   "outputs": [],
   "source": [
    "# create an array (6 rows, 3 columns) with zeros\n",
    "zeroarray = np.zeros((6,3)) \n",
    "\n",
    "# create an array (6 rows, 3 columns) with ones\n",
    "onesarray = np.ones((6,3))\n",
    "\n",
    "print(zeroarray,'\\n')\n",
    "print(onesarray)"
   ]
  },
  {
   "cell_type": "code",
   "execution_count": null,
   "metadata": {},
   "outputs": [],
   "source": [
    "# Pass lists directly to create 2D array\n",
    "myarray = np.array([[1,2,3], [4,5,6]])\n",
    "\n",
    "# Check the array dimensions with .shape attribute (rows, columns)\n",
    "print(\"Number of rows: {} \\nNumber of columns: {}\".format(myarray.shape[0], myarray.shape[1]))\n",
    "print(myarray)"
   ]
  },
  {
   "cell_type": "markdown",
   "metadata": {},
   "source": [
    "<div class=\" alert alert-danger\"> \n",
    "    \n",
    "<center><font size=\"5\"><b>Caution!</b></font></center>\n",
    "    \n",
    "<p><center><font size=\"4\">A numpy array of shape (n,1) is of different data type than a numpy array of shape (n,)</font></center></p>\n",
    "       \n",
    "</div>"
   ]
  },
  {
   "cell_type": "code",
   "execution_count": null,
   "metadata": {},
   "outputs": [],
   "source": [
    "# Note! Array of shape (n,1) is not equal to the array of shape (n,)\n",
    "# Use .shape attribute to check the array's dimensions\n",
    "# Use .reshape() function to get the array with desired dimensions\n",
    "\n",
    "myarray1 = np.array(range(10))\n",
    "myarray2 = np.array(range(10)).reshape(-1,1)\n",
    "\n",
    "myarray1.shape, myarray2.shape"
   ]
  },
  {
   "cell_type": "markdown",
   "metadata": {},
   "source": [
    "**<center><font size=\"4\">Slicing and Combining NumPy Arrays</font></center>**"
   ]
  },
  {
   "cell_type": "code",
   "execution_count": null,
   "metadata": {},
   "outputs": [],
   "source": [
    "# Access element of the array by index\n",
    "# Note! Indexing starts with 0\n",
    "\n",
    "# 1D array\n",
    "myarray = np.arange(10,0,-1)\n",
    "print(myarray)\n",
    "print(\"First element of the array: {}\\n\".format(myarray[0]))\n",
    "\n",
    "# 2D array\n",
    "myarray = np.array([[1,2,3],[4,5,6]])\n",
    "print(myarray)\n",
    "print(\"2nd row, 3rd column element of the array: {}\\n\".format(myarray[1,2]))\n",
    "\n",
    "# Conditional indexing - print values of the array larger than 2\n",
    "myarray = np.array([[1,2,3],[4,5,6]])\n",
    "print(myarray)\n",
    "print(\"Values >2: {}\\n\".format(myarray[myarray>2]))"
   ]
  },
  {
   "cell_type": "code",
   "execution_count": null,
   "metadata": {
    "scrolled": true
   },
   "outputs": [],
   "source": [
    "# Slicing numpy array\n",
    "# create numpy array with shape=(4,5)\n",
    "myarray = np.array([[1,2,3,4,5], [6,7,8,9,10], [11,12,13,14,15], [16,17,18,19,20]])\n",
    "\n",
    "# print the values of the array\n",
    "print('\\n',myarray, \"   array shape is \", myarray.shape)\n",
    "# print the values of the array located at the rows 1,2 and columns 2,3\n",
    "print(\"\\nSliced array:\\n\", myarray[:2,1:3])"
   ]
  },
  {
   "cell_type": "markdown",
   "metadata": {},
   "source": [
    "Some more examples of numpy array slicing"
   ]
  },
  {
   "cell_type": "markdown",
   "metadata": {},
   "source": [
    "<img src=\"../../../coursedata/R0_Intro/nparray_slicing.jpg\" style=\"height: 500px;\"/>\n"
   ]
  },
  {
   "cell_type": "code",
   "execution_count": null,
   "metadata": {},
   "outputs": [],
   "source": [
    "# Stack arrays vertically (row wise)\n",
    "myarray = np.zeros((2,5))\n",
    "print(np.vstack([myarray, myarray+2]),'\\n')\n",
    "\n",
    "# Stack arrays horizontally (column wise)\n",
    "myarray = np.zeros((2,5))\n",
    "print(np.hstack([myarray, myarray+2]))"
   ]
  },
  {
   "cell_type": "markdown",
   "metadata": {},
   "source": [
    "**<center><font size=\"4\">Viewing and Copying NumPy Arrays</font></center>**\n",
    "\n",
    "Consider a numpy array `a` of shape (5,1). Assume you create a slice `b` which consists of the first two elements of `a` via `b=a[0:1]`. It is then important to be aware that the variable `b` is merely a pointer (or reference) to the first two entries of `a`. Thus, when you modify the slice by `b[0] = 10`, you will simultaneously modify the first entry of `a`. If you want the slice to become a new object you need to copy the slice using the function `copy()`. "
   ]
  },
  {
   "cell_type": "markdown",
   "metadata": {},
   "source": [
    "<div class=\" alert alert-danger\"> \n",
    "    \n",
    "<center><font size=\"5\"><b>Caution!</b></font></center>\n",
    "    \n",
    "\n",
    "<p><center><font size=\"4\">Modification of an array slice will modify the original array</font></center></p>\n",
    "    \n",
    "</div>"
   ]
  },
  {
   "cell_type": "code",
   "execution_count": null,
   "metadata": {},
   "outputs": [],
   "source": [
    "# Slice view, creates view of the array and any modification of it will update that array.\n",
    "\n",
    "# create the array \n",
    "myarray = np.arange(10)\n",
    "# print values of the original array\n",
    "print(\"Original array: \", myarray)\n",
    "\n",
    "# assign the slice (view of the array)to a new variable 'myslice'\n",
    "myslice = myarray[5:10]\n",
    "# print values of variable 'myslice'\n",
    "print(\"\\nSlice of the array: \", myslice)\n",
    "\n",
    "# modify variable 'myslice'\n",
    "myslice[:] = 0\n",
    "\n",
    "# print values of the original array and modified variable 'myslice'\n",
    "print(\"\\nModified slice of the array: \", myslice)\n",
    "print(\"\\nOriginal array: \", myarray)"
   ]
  },
  {
   "cell_type": "code",
   "execution_count": null,
   "metadata": {},
   "outputs": [],
   "source": [
    "# Copying array, creates a different object, original array is not modified.\n",
    "\n",
    "# create the array \n",
    "myarray = np.arange(10)\n",
    "# print values of the original array\n",
    "print(\"Original array: \", myarray)\n",
    "\n",
    "# assign the slice (copy of the array) to a new variable 'myslice'\n",
    "myslice = np.copy(myarray[5:10])\n",
    "# print values of variable 'myslice'\n",
    "print(\"\\nCopy of the array: \", myslice)\n",
    "\n",
    "# modify variable 'myslice'\n",
    "myslice[:] = 0\n",
    "\n",
    "# print values of the original array and modified variable 'myslice'\n",
    "print(\"\\nModified copy of the array: \", myslice)\n",
    "print(\"\\nOriginal array: \", myarray)"
   ]
  },
  {
   "cell_type": "markdown",
   "metadata": {},
   "source": [
    "**You can find further reading about view and copy of NumPy Arrays here:**\n",
    "\n",
    "https://scipy-cookbook.readthedocs.io/items/ViewsVsCopies.html"
   ]
  },
  {
   "cell_type": "markdown",
   "metadata": {},
   "source": [
    "**<center><font size=\"4\">Operations on NumPy Arrays</font></center>**"
   ]
  },
  {
   "cell_type": "code",
   "execution_count": null,
   "metadata": {},
   "outputs": [],
   "source": [
    "# create two numpy arrays\n",
    "\n",
    "x = np.arange(10)\n",
    "y = np.arange(20,30)\n",
    "x, y"
   ]
  },
  {
   "cell_type": "code",
   "execution_count": null,
   "metadata": {},
   "outputs": [],
   "source": [
    "# elementwise addition and substraction\n",
    "\n",
    "print(x + y)\n",
    "print(x - y)"
   ]
  },
  {
   "cell_type": "code",
   "execution_count": null,
   "metadata": {},
   "outputs": [],
   "source": [
    "# elementwise multiplication and division\n",
    "\n",
    "print(x * y)\n",
    "print(x / y)"
   ]
  },
  {
   "cell_type": "code",
   "execution_count": null,
   "metadata": {},
   "outputs": [],
   "source": [
    "# elementwise power\n",
    "\n",
    "print(x**2)"
   ]
  },
  {
   "cell_type": "code",
   "execution_count": null,
   "metadata": {},
   "outputs": [],
   "source": [
    "# create numpy array\n",
    "x = np.arange(10,0,-1)\n",
    "\n",
    "# useful numpy array functions:\n",
    "# sum of elements\n",
    "x_sum = x.sum()\n",
    "\n",
    "# maximum and minimum values\n",
    "x_max = x.max()\n",
    "x_min = x.min()\n",
    "\n",
    "# indices of maximum and minimum values\n",
    "x_indmax = x.argmax()\n",
    "x_indmin = x.argmin()\n",
    "\n",
    "print(x)\n",
    "print(\"\\nSum of the array: \", x_sum) \n",
    "print(\"\\nMaximum and minimun values: {}, {} \\nIndices of maximum and minimum values: {}, {}\".format(\n",
    "      x_max, x_min, x_indmax, x_indmin))"
   ]
  },
  {
   "cell_type": "markdown",
   "metadata": {},
   "source": [
    "**<center><font size=\"4\">Dot Products of Numpy Arrays</font></center>**\n",
    "\n",
    "The [dot product](https://en.wikipedia.org/wiki/Dot_product) between two vectors, i.e. one-dimensional numpy arrays, of the same length is defined as\n",
    "\\begin{equation}\n",
    "\\big(\\mathbf{x}_{1},\\mathbf{x}_{2},\\ldots,\\mathbf{x}_{m}\\big)  \\cdot \\begin{pmatrix} \\mathbf{y}_{1} \\\\ \\mathbf{y}_{2} \\\\ \\vdots \\\\ \\mathbf{y}_{m} \\end{pmatrix} = \\mathbf{x}_{1}\\mathbf{y}_{1}+\\mathbf{x}_{2}\\mathbf{y}_{2}+\\ldots+\\mathbf{x}_{m}\\mathbf{y}_{m}\n",
    "\\end{equation} \n",
    "Geometrically, it is the product of the Euclidean distances of the two vectors and the cosine of the angle between them. \n",
    "\n",
    "The dot product is also defined for numpy arrays with more than one dimension (see [numpy documentation](https://numpy.org/doc/stable/reference/generated/numpy.dot.html?highlight=dot#numpy.dot) for more info). \n"
   ]
  },
  {
   "cell_type": "code",
   "execution_count": null,
   "metadata": {},
   "outputs": [],
   "source": [
    "# create two numpy arrays\n",
    "x = np.arange(3)\n",
    "y = np.arange(3,6)\n",
    "\n",
    "# display the values of two arrays\n",
    "print(x,y)\n",
    "# dot product 0*3+1*4+2*5\n",
    "x.dot(y) "
   ]
  },
  {
   "cell_type": "markdown",
   "metadata": {},
   "source": [
    "**<center><font size=\"4\">Broadcasting</font></center>**"
   ]
  },
  {
   "cell_type": "markdown",
   "metadata": {},
   "source": [
    "Sometimes we need to add the same constant value to all entries of a numpy array. Consider a numpy array `a` of arbitrary size and a numpy array `b` containing a single number. We would like to be able to write `a+b` to get a numpy array whose entries are given by adding the value in `b` to all entries in `a`. The concept of \"broadcasting\" for numpy arrays makes this possible! \n",
    "\n",
    "Find more information here:\n",
    "\n",
    "https://docs.scipy.org/doc/numpy/user/basics.broadcasting.html\n",
    "\n",
    "https://numpy.org/devdocs/user/theory.broadcasting.html"
   ]
  },
  {
   "cell_type": "code",
   "execution_count": null,
   "metadata": {},
   "outputs": [],
   "source": [
    "# It is possible to do operations with different size arrays - broadcasting\n",
    "# create two numpy arrays\n",
    "x = np.array([[1,2,3], [4,5,6], [7,8,9], [10,11,12]])\n",
    "y = np.ones((1,3))\n",
    "\n",
    "# display the values of two arrays\n",
    "print(\"x = \", x)\n",
    "print(\"\\n\", \"y = \", y)\n",
    "\n",
    "# print the result of arrays addition\n",
    "print(\"\\n\\n x+y = \", x+y)"
   ]
  },
  {
   "cell_type": "markdown",
   "metadata": {},
   "source": [
    "<a id='Q6'></a>\n",
    "<div class=\" alert alert-info\"> \n",
    "    \n",
    "# <center>Representing Matrices using numpy Arrays</center>\n",
    "    \n",
    "</div>"
   ]
  },
  {
   "cell_type": "markdown",
   "metadata": {},
   "source": [
    "In many applications it is natural to represent data as a matrix, which is the special case of a two dimensional numpy array. Consider a grayscale image which we can represent by a matrix whose entries represent grayscale values of individual pixels. \n",
    "\n",
    "https://en.wikipedia.org/wiki/Matrix_(mathematics)\n",
    "\n",
    "We will disccuss how to represent our data as a matrix for further analyses in the next round. \n",
    "\n",
    "\n"
   ]
  },
  {
   "cell_type": "markdown",
   "metadata": {},
   "source": [
    "Now we will use numpy arrays to create matrix $\\mathbf{X}$ with $m$ rows and $n$ columns \n",
    "\\\n",
    "\\\n",
    "\\begin{equation}\n",
    "\\mathbf{X}  = \\begin{pmatrix} X_{1,1} & X_{1,2} & \\ldots & X_{1,n} \\\\ \n",
    "X_{2,1} & X_{2,2}& \\ldots & X_{2,n} \\\\ \n",
    "\\vdots & \\vdots & \\vdots & \\vdots \\\\ \n",
    "X_{m,1} & X_{m,2} & \\ldots & X_{m,n} \\end{pmatrix}\\in \\mathbb{R}^{m \\times n}\n",
    "\\end{equation} \n",
    "and matrix $\\mathbf{Y}$ with $n$ rows and $m$ columns  \n",
    "\\\n",
    "\\\n",
    "\\begin{equation}\n",
    "\\mathbf{Y}  = \\begin{pmatrix} Y_{1,1} & Y_{1,2} & \\ldots & Y_{1,m} \\\\ \n",
    "Y_{2,1} & Y_{2,2}& \\ldots & Y_{2,m} \\\\ \n",
    "\\vdots & \\vdots & \\vdots & \\vdots \\\\ \n",
    "Y_{n,1} & Y_{n,2} & \\ldots & Y_{n,m} \\end{pmatrix}\\in \\mathbb{R}^{n \\times m}\n",
    "\\end{equation}  \n",
    "\n",
    "\n",
    "and perform matrix multiplication to compute the product $\\mathbf{X}\\mathbf{Y}$. "
   ]
  },
  {
   "cell_type": "markdown",
   "metadata": {},
   "source": [
    "[Matrix multiplication](https://en.wikipedia.org/wiki/Matrix_multiplication) is a binary operation that produces a matrix from two matrices. For matrix multiplication, the number of columns in the first matrix must be equal to the number of rows in the second matrix. The result matrix, known as the matrix product, has the number of rows of the first and the number of columns of the second matrix.\n",
    "\n",
    "In Python, matrix multiplication can be performed using NumPy with the `@` operator, which is equivalent to the function `numpy.matmul()`, or with the `numpy.dot()` function."
   ]
  },
  {
   "cell_type": "code",
   "execution_count": null,
   "metadata": {
    "scrolled": true
   },
   "outputs": [],
   "source": [
    "# create an array of length m*n\n",
    "m = 4\n",
    "n = 3\n",
    "array = np.arange(m*n)\n",
    "\n",
    "# create matrix X represented as a numpy array of shape (m,n)\n",
    "X = array.reshape(m,n)\n",
    "dimension=np.shape(X)      # determine dimensions of matrix X\n",
    "rows = dimension[0]        # first element of \"dimension\" is the number of rows \n",
    "cols = dimension[1]        # second element of \"dimension\" is the number of cols\n",
    "print(\"the matrix X has\", rows, \"rows and\", cols, \"columns \\n\") \n",
    "\n",
    "# create matrix Y represented as a numpy array of shape (n,m)\n",
    "Y = array.reshape(n,m)\n",
    "dimension=np.shape(Y)      # determine dimensions of matrix Y\n",
    "rows = dimension[0]        # first element of \"dimension\" is the number of rows \n",
    "cols = dimension[1]        # second element of \"dimension\" is the number of cols\n",
    "print(\"the matrix Y has\", rows, \"rows and\", cols, \"columns \\n\") \n",
    "\n",
    "# matrix multiplication of X and Y\n",
    "XY = X @ Y\n",
    "# print the result of matrix multiplication \n",
    "print(\"the product XY=X@Y is XY = \\n\", XY) \n",
    "# print the shape of the XY matrix\n",
    "print(\"\\n the matrix XY has\", XY.shape[0], \"rows and\", XY.shape[1], \"columns \\n\") "
   ]
  },
  {
   "cell_type": "markdown",
   "metadata": {},
   "source": [
    "Note, that order of matrix multiplication is important and that A*B is elemet-waise multiplication, and not the matrix multiplication."
   ]
  },
  {
   "cell_type": "code",
   "execution_count": null,
   "metadata": {},
   "outputs": [],
   "source": [
    "# For matrix multiplication A.dot(B) or A@B can be used\n",
    "print(\"\\nMatrix multiplication X@Y:\\n\\n\", X @ Y)\n",
    "\n",
    "# Order is important in matrix multiplication - A@B != B@A\n",
    "print(\"\\nMatrix multiplication Y@X:\\n\\n\", Y @ X)\n",
    "\n",
    "# Square of the matrix element-wise\n",
    "Z = np.arange(9).reshape(3,3)\n",
    "print(\"\\nMatrix Z:\\n\\n\", Z)\n",
    "print(\"\\nSquare - element-wise Z*Z:\\n\\n\", Z**2)\n",
    "\n",
    "# Square of the matrix by matrix multiplication\n",
    "print(\"\\nSquare - matrix multiplication Z@Z:\\n\\n\", Z @ Z)"
   ]
  },
  {
   "cell_type": "markdown",
   "metadata": {},
   "source": [
    "<a id='Q7'></a>\n",
    "<div class=\" alert alert-info\"> \n",
    "    \n",
    "# <center>Plotting with Matplotlib</center>\n",
    "    \n",
    "</div>"
   ]
  },
  {
   "cell_type": "markdown",
   "metadata": {},
   "source": [
    "Matplotlib is a library that provides plotting functionality for Python. Good introductory tutorials for Matplotlib can be found at https://matplotlib.org/tutorials/index.html.\n",
    "\n",
    "A useful command for creating a plot in Python is \n",
    "\n",
    "`fig, axes = plt.subplots()`\n",
    "\n",
    "`plt.subplots()` return figure and axes (Axes object or array of Axes objects)"
   ]
  },
  {
   "cell_type": "code",
   "execution_count": null,
   "metadata": {
    "scrolled": false
   },
   "outputs": [],
   "source": [
    "# Plotting line and scatter plot\n",
    "\n",
    "# the library \"pyplot\" provides functions for plotting data \n",
    "import matplotlib.pyplot as plt\n",
    "\n",
    "np.random.seed(42)\n",
    "\n",
    "# create numpy arrays\n",
    "x1 = np.linspace(10,100,50)\n",
    "y1 = x1**2\n",
    "\n",
    "# generate 100 realizations of a Gaussian random variable \n",
    "x2 = np.random.rand(100,)\n",
    "y2 = np.random.rand(100,)\n",
    "\n",
    "# create figure and axes objects\n",
    "fig, axes = plt.subplots(1,2)\n",
    "# plot a line in 1st subplot\n",
    "axes[0].plot(x1,y1,c='r')\n",
    "# plot scatter in 2nd subplot\n",
    "axes[1].scatter(x2,y2)\n",
    "\n",
    "# set axes labels for 1st subplot \n",
    "axes[0].set_xlabel(\"x1\")\n",
    "axes[0].set_ylabel(\"y1\")\n",
    "# set axes labels for 2nd subplot \n",
    "axes[1].set_xlabel(\"x2\")\n",
    "axes[1].set_ylabel(\"y2\")\n",
    "# set titles\n",
    "axes[0].set_title('plot 1')\n",
    "axes[1].set_title('plot 2')\n",
    "\n",
    "# adjust subplots so the labels of different axes are not overlapping \n",
    "fig.tight_layout()\n",
    "# display plot\n",
    "plt.show()"
   ]
  },
  {
   "cell_type": "code",
   "execution_count": null,
   "metadata": {},
   "outputs": [],
   "source": [
    "# Plotting 3D scatter plot\n",
    "\n",
    "# the library \"pyplot\" provides functions for plotting data \n",
    "import matplotlib.pyplot as plt\n",
    "# the library \"mplot3d\" provides functions for plotting 3D data \n",
    "from mpl_toolkits.mplot3d import Axes3D\n",
    "\n",
    "np.random.seed(42)\n",
    "\n",
    "# generate 100 realizations of a Gaussian random variable \n",
    "x = np.random.rand(100,)\n",
    "y = np.random.rand(100,)\n",
    "z = np.random.rand(100,)\n",
    "\n",
    "# create figure and axes objects\n",
    "fig = plt.figure()\n",
    "# add a new Axes3D axes to figure:\n",
    "axes = fig.add_subplot(111, projection='3d')\n",
    "# plot 3D scatter\n",
    "axes.scatter(x,y,z)\n",
    "\n",
    "# set axes labels \n",
    "axes.set_xlabel(\"x\")\n",
    "axes.set_ylabel(\"y\")\n",
    "axes.set_zlabel(\"z\")\n",
    "\n",
    "# set title\n",
    "axes.set_title('3D scatter plot',fontweight='bold')\n",
    "\n",
    "# display the plot\n",
    "plt.show()"
   ]
  },
  {
   "cell_type": "code",
   "execution_count": null,
   "metadata": {
    "scrolled": false
   },
   "outputs": [],
   "source": [
    "# Plotting 2D plot with meshgrid \n",
    "\n",
    "# create numpy arrays\n",
    "x = np.arange(-5, 5, 1)\n",
    "y = np.arange(-5, 5, 1)\n",
    "\n",
    "# create the grid\n",
    "xx, yy = np.meshgrid(x, y)\n",
    "\n",
    "# plot the grid \n",
    "plt.plot(xx,yy,marker='.', color='k', linestyle='none')\n",
    "\n",
    "# set axes labels \n",
    "plt.xlabel(\"x\")\n",
    "plt.ylabel(\"y\")\n",
    "# set title\n",
    "plt.title('xy grid', fontweight='bold')\n",
    "\n",
    "# display the plot\n",
    "plt.show()"
   ]
  },
  {
   "cell_type": "code",
   "execution_count": null,
   "metadata": {},
   "outputs": [],
   "source": [
    "# Plotting 3D plot with meshgrid \n",
    "\n",
    "# create numpy arrays\n",
    "x = np.linspace(0,1,1000)\n",
    "y = np.linspace(0,1,1000)\n",
    "\n",
    "# create grid of numbers\n",
    "X, Y = np.meshgrid(x, y)\n",
    "Z = 2*X**2 + 4*Y**2\n",
    "\n",
    "# print shapes of X,Y,Z numpy arrays\n",
    "print(\"X.shape={}, Y.shape={}, Z.shape={}\".format(X.shape, Y.shape, Z.shape))\n",
    "\n",
    "# create figure and axes objects\n",
    "fig = plt.figure()\n",
    "# add a new Axes3D axes to figure:\n",
    "axes = fig.add_subplot(111, projection='3d')\n",
    "# plot 3D surface \n",
    "axes.plot_surface(X, Y, Z, cmap='jet')\n",
    "\n",
    "# set axes labels \n",
    "axes.set_xlabel(\"x\")\n",
    "axes.set_ylabel(\"y\")\n",
    "axes.set_zlabel(\"z\")\n",
    "\n",
    "# set title\n",
    "axes.set_title('Surface plot', fontweight='bold')\n",
    "\n",
    "# display the plot\n",
    "plt.show()"
   ]
  },
  {
   "cell_type": "code",
   "execution_count": null,
   "metadata": {},
   "outputs": [],
   "source": [
    "# Plotting with Seaborn\n",
    "\n",
    "# import \"seaborn\" library for plotting\n",
    "import seaborn as sns\n",
    "\n",
    "np.random.seed(42)\n",
    "\n",
    "# generate 100 realizations of a Gaussian random variable \n",
    "x = np.random.randn(100)\n",
    "\n",
    "# create figure and axes objects\n",
    "fig, axes = plt.subplots(1,3,figsize=(10,4))\n",
    "\n",
    "# set the labels for the plots\n",
    "label1 = \"histogram, plot 1\"\n",
    "label2 = \"density estimation, plot 2\"\n",
    "label3 = \"density estimation, plot 3\"\n",
    "\n",
    "# plot histogram obatined from the realizations stored in x \n",
    "sns.distplot(x, ax=axes[0], kde=False, label=label1)\n",
    "# plot density estimation obatined from the realizations stored in x\n",
    "sns.distplot(x, ax=axes[1],label=label2, rug=True, hist=False,  color=\"r\")\n",
    "# plot histogram and density estimation \n",
    "sns.distplot(x, ax=axes[2], rug=True, rug_kws={\"color\": \"g\"},\n",
    "                  kde_kws={\"color\": \"k\", \"lw\": 3, \"label\": label3},\n",
    "                  hist_kws={\"histtype\": \"step\", \"linewidth\": 3,\n",
    "                            \"alpha\": 1, \"color\": \"g\"})\n",
    "# adjust legends \n",
    "axes[0].legend( prop=dict(size=12),loc='upper center', bbox_to_anchor=(4.1, 1.))\n",
    "axes[1].legend( prop=dict(size=12),loc='upper center', bbox_to_anchor=(3, 0.85))\n",
    "axes[2].legend( prop=dict(size=12),loc='upper center', bbox_to_anchor=(1.8, 0.7))\n",
    "# display the plot\n",
    "plt.show()"
   ]
  },
  {
   "cell_type": "markdown",
   "metadata": {},
   "source": [
    "<a id='Q8'></a>\n",
    "<div class=\" alert alert-info\"> \n",
    "    \n",
    "# <center>User-Defined Functions</center>\n",
    "    \n",
    "</div>"
   ]
  },
  {
   "cell_type": "markdown",
   "metadata": {},
   "source": [
    "Like in other programming languages, users can define their own functions in Python. Below are three examples that present the basic syntax of function definitions.\n",
    "\n",
    "The code snippet below shows how to define a function `multiply` which reads in two arguments `x`and `y`. This function computes the product of the arguments and returns it. "
   ]
  },
  {
   "cell_type": "code",
   "execution_count": null,
   "metadata": {},
   "outputs": [],
   "source": [
    "# define a function\n",
    "def multiply(x,y):\n",
    "    '''   \n",
    "    this function takes input x and y\n",
    "    and returns multiplication of x and y\n",
    "   \n",
    "    '''\n",
    "    return x*y\n",
    "\n",
    "# apply the function \n",
    "y = multiply(2,3)\n",
    "\n",
    "# print the result \n",
    "print(y)\n",
    "# print the data type of the result\n",
    "print(type(y))"
   ]
  },
  {
   "cell_type": "markdown",
   "metadata": {},
   "source": [
    "The function `index_value()` is an example of a function containing for loop and **NOT** returning any output"
   ]
  },
  {
   "cell_type": "code",
   "execution_count": null,
   "metadata": {},
   "outputs": [],
   "source": [
    "import numpy as np\n",
    "\n",
    "# define a function\n",
    "def index_value(x):\n",
    "    '''\n",
    "    this function takes as input number, makes an np.array and \n",
    "    prints out value and index of each array element\n",
    "    \n",
    "    Note! In this example function does not return any output, \n",
    "    but only prints out the index and value\n",
    "    '''\n",
    "    x_array = np.arange(x)\n",
    "    for i in range(x):\n",
    "        print(\"index={} and value={}\".format(i, x_array[i]))\n",
    "\n",
    "# apply the function \n",
    "y = index_value(10)\n",
    "\n",
    "# print the data type of the result\n",
    "# you can see that variable 'y' is a NoneType, because the function does not return any output\n",
    "print(type(y))"
   ]
  },
  {
   "cell_type": "code",
   "execution_count": null,
   "metadata": {},
   "outputs": [],
   "source": [
    "# Apply function to iterable with map(function, iterable)\n",
    "\n",
    "# define a function\n",
    "def square(x):\n",
    "    return x**2\n",
    "\n",
    "# create a numpy array\n",
    "x = range(10)\n",
    "# map the function to all elements of the array 'x'\n",
    "y = map(square,x)\n",
    "\n",
    "# display array 'x' and array 'y'\n",
    "list(x) , list(y)"
   ]
  },
  {
   "cell_type": "markdown",
   "metadata": {},
   "source": [
    "<a id='Q9'></a>\n",
    "<div class=\" alert alert-info\"> \n",
    "    \n",
    "# <center>Measuring Execution Time</center>\n",
    "    \n",
    "</div>"
   ]
  },
  {
   "cell_type": "markdown",
   "metadata": {},
   "source": [
    "Sometimes it is useful to know how much time your code takes to execute. This is especially useful in applications involving massive datasets (\"Big Data\"). The execution time of your ML methods often translate directly into monetary costs. Indeed, nowadays you can rent computational infrastructure at an hourly rate [click here](https://aws.amazon.com/pricing/)). Thus, the faster your ML method runs the less you have to pay! \n",
    "\n",
    "Below we will go through a simple example on how to measure the execution time of a code block. \n",
    "Note the difference in execution time for creating a list with for loop and numpy array operation.    "
   ]
  },
  {
   "cell_type": "code",
   "execution_count": null,
   "metadata": {},
   "outputs": [],
   "source": [
    "import time # import standard library time\n",
    "\n",
    "# lets measure the time it takes us to create a list with 1000000 values and for loop\n",
    "start_time = time.time() # save starting time to variable \"start_time\". Time is saved in seconds.\n",
    "\n",
    "x = [] # initialize x list\n",
    "for i in range(1000000): # loop 1000000 times\n",
    "    x.append(i+1)     # Add one element to the list  \n",
    "                      # and increase the value of the element by one with each interation\n",
    "end_time = (time.time() - start_time)*1000 # Print the difference in time, multiply by 1000 to get time in milliseconds.\n",
    "\n",
    "print(\"--- %s milliseconds ---\" % (end_time)) # print the variable \"end_time\""
   ]
  },
  {
   "cell_type": "code",
   "execution_count": null,
   "metadata": {},
   "outputs": [],
   "source": [
    "import numpy as np\n",
    "import time # import standard library time\n",
    "\n",
    "# lets measure the time it takes us to create the same values with numpy array\n",
    "start_time = time.time() # save starting time to variable \"start_time\". Time is saved in seconds.\n",
    "\n",
    "x = np.arange(1000000) # Initialize np.array\n",
    "x +=1                  # Increase the value of all elements by one\n",
    "\n",
    "end_time = (time.time() - start_time)*1000 # Print the difference in time, multiply by 1000 to get time in milliseconds.\n",
    "\n",
    "print(\"--- %s milliseconds ---\" % (end_time)) # print the variable \"end_time\""
   ]
  },
  {
   "cell_type": "markdown",
   "metadata": {},
   "source": [
    "<a id='Q10'></a>\n",
    "<div class=\" alert alert-info\"> \n",
    "    \n",
    "# <center>Dictionaries and Dataframes</center>\n",
    "    \n",
    "</div>"
   ]
  },
  {
   "cell_type": "markdown",
   "metadata": {},
   "source": [
    "**<center><font size=\"4\">Dictionary</font></center>**"
   ]
  },
  {
   "cell_type": "markdown",
   "metadata": {},
   "source": [
    "The raw data used in ML methods are typically not directly available as numpy arrays. While data is nothing but a (huge) pile of bits, some applications involve data that can be conveniently represented using a **Python dictionary**. \n",
    "[Dictionaries](https://docs.python.org/3/tutorial/datastructures.html#dictionaries), also known as **associative arrays** are data structures that consist of a collection of key-value pairs. As we will see, Python dictionaries provide a convenient interface to data stored in files or online databases. "
   ]
  },
  {
   "cell_type": "code",
   "execution_count": null,
   "metadata": {},
   "outputs": [],
   "source": [
    "# Lets define a simple dictionary consisting of three key-value pairs.\n",
    "# Keys   - names of countries from Norhern Europe \n",
    "# Values - indicate the capital city for each country\n",
    "\n",
    "# initialize dictionary C\n",
    "C = {'Finland':'Helsinki',\n",
    "    'Sweden':'Stockholm',\n",
    "    'Norway':'Oslo'} \n",
    "\n",
    "print('The type of the variable C is:', type(C))  # print the type of the variable \"C\"\n",
    "print(C) # print out the dictionary contents"
   ]
  },
  {
   "cell_type": "code",
   "execution_count": null,
   "metadata": {},
   "outputs": [],
   "source": [
    "# Accessing Dictionary values by key\n",
    "print(\"C['Finland']:\", C['Finland']) # prints out \"Helsinki\""
   ]
  },
  {
   "cell_type": "code",
   "execution_count": null,
   "metadata": {},
   "outputs": [],
   "source": [
    "# If you refer to a key that is not in the dictionary, i.e. print(C['Denmark']), \n",
    "# Python raises an exception \"KeyError: 'Denmark'\"\n",
    "print(C['Denmark'])"
   ]
  },
  {
   "cell_type": "code",
   "execution_count": null,
   "metadata": {},
   "outputs": [],
   "source": [
    "# Adding an entry to an existing dictionary is simply a matter of assigning a new key and value:\n",
    "C['Denmark'] = 'Copenhagen'   # adds a dictionary entry with key \"Denmark\" and value \"Copenhagen\"\n",
    "\n",
    "print(\"C['Denmark']:\", C['Denmark']) # Print out dictionary value with key \"Denmark\"\n",
    "print(C) # print dictionary \"C\""
   ]
  },
  {
   "cell_type": "code",
   "execution_count": null,
   "metadata": {},
   "outputs": [],
   "source": [
    "# Remember, you can’t treat a dictionary like a list or numpy array, e.g. indices don't work.\n",
    "\n",
    "# Dictionaries can contain numerical and string values as keys and values:\n",
    "\n",
    "# Create a dictionary where values are numbers\n",
    "population = {'Finland':5500000,\n",
    "                'Sweden':10000000,\n",
    "                'Norway':5250000} \n",
    "print(\"The population of Finland is \", population['Finland'], \" persons\") # print the value of dictionary with key \"Finland\"\n",
    "\n",
    "# Create a dictionary where keys are numbers\n",
    "numbers = {3:'prime',\n",
    "            6:'not prime',\n",
    "            7:'prime'} # Create a dictionary \"Numbers\"\n",
    "print(\"The number 3 is\", numbers[3]) # print a value of dictionary Numbers with key \"3\""
   ]
  },
  {
   "cell_type": "markdown",
   "metadata": {},
   "source": [
    "**<center><font size=\"4\">Data Frames</font></center>**"
   ]
  },
  {
   "cell_type": "markdown",
   "metadata": {},
   "source": [
    "The library `Pandas` provides the class (object type) `DataFrame`. A `DataFrame`is a two-dimensional (with rows and columns) tabular structure. Dataframes are convenient for storing and manipulating heterogeneous data such mixtures of numeric and text data. "
   ]
  },
  {
   "cell_type": "code",
   "execution_count": null,
   "metadata": {},
   "outputs": [],
   "source": [
    "# import 'pandas' - library providing high-performance, easy-to-use data structures and data analysis tools \n",
    "import pandas as pd\n",
    "\n",
    "# create list\n",
    "mylist = ['dogs','cats','mice','rats']\n",
    "\n",
    "# create dataframe from list\n",
    "df = pd.DataFrame(mylist)\n",
    "df"
   ]
  },
  {
   "cell_type": "code",
   "execution_count": null,
   "metadata": {},
   "outputs": [],
   "source": [
    "# create dictionary\n",
    "mydict = {'animal':['cat', 'dog','mouse','rat'],\n",
    "         'name':['Fluffy','Chewy','Squeaky','Spotty'],\n",
    "         'age, years': [3,5,0.5,1]}\n",
    "\n",
    "# create dataframe from dictionary\n",
    "df = pd.DataFrame(mydict, index=['id1','id2','id3','id4'])\n",
    "df"
   ]
  },
  {
   "cell_type": "code",
   "execution_count": null,
   "metadata": {},
   "outputs": [],
   "source": [
    "# Accessing DataFrame elements\n",
    "\n",
    "# access row by name with .loc \n",
    "print(df.loc['id1'])\n",
    "\n",
    "# access row by index with .iloc \n",
    "print('\\n', df.iloc[0])"
   ]
  },
  {
   "cell_type": "code",
   "execution_count": null,
   "metadata": {},
   "outputs": [],
   "source": [
    "# access column by name with .loc \n",
    "print(df.loc[:,'animal'])\n",
    "\n",
    "# accsss column by name without .loc \n",
    "print('\\n', df['animal'])\n",
    "\n",
    "# access column by index with .iloc \n",
    "print('\\n', df.iloc[:,0])"
   ]
  },
  {
   "cell_type": "code",
   "execution_count": null,
   "metadata": {
    "scrolled": false
   },
   "outputs": [],
   "source": [
    "# access specific row and columns by name with .loc\n",
    "print(df.loc['id1',['animal','name']])\n",
    "\n",
    "# access specific row and columns by index with .iloc\n",
    "print('\\n', df.iloc[0,[0,1]])"
   ]
  },
  {
   "cell_type": "markdown",
   "metadata": {},
   "source": [
    "<a id='Q11'></a>\n",
    "<div class=\" alert alert-info\"> \n",
    "    \n",
    "# <center>Loading data in Python</center>\n",
    "    \n",
    "</div>"
   ]
  },
  {
   "cell_type": "code",
   "execution_count": null,
   "metadata": {},
   "outputs": [],
   "source": [
    "# Loading from .csv file by using pandas DataFrame structure\n",
    "\n",
    "import pandas as pd\n",
    "\n",
    "# load the .csv file with pandas \n",
    "df = pd.read_csv('../../../coursedata/R0_Intro/Data.csv')\n",
    "\n",
    "# check the shape of the dataframe\n",
    "print(\"Shape of the dataframe: \",df.shape)\n",
    "print(\"Number of dataframe rows: \",df.shape[0])\n",
    "print(\"Number of dataframe columns: \",df.shape[1])\n",
    "\n",
    "# print first 5 rows \n",
    "df.head()"
   ]
  },
  {
   "cell_type": "code",
   "execution_count": null,
   "metadata": {},
   "outputs": [],
   "source": [
    "# Convert dataframe to numpy array\n",
    "\n",
    "# DataFrame.values return a Numpy representation of the DataFrame.\n",
    "X = df.values\n",
    "X"
   ]
  },
  {
   "cell_type": "markdown",
   "metadata": {},
   "source": [
    "With `pd.read_` it is possible to read also excel,json,html,sql and many others types of files:\n",
    "\n",
    "https://pandas.pydata.org/pandas-docs/stable/reference/io.html"
   ]
  },
  {
   "cell_type": "markdown",
   "metadata": {},
   "source": [
    "**<center><font size=\"4\">Load Data from Helsinki city map service </font></center>**"
   ]
  },
  {
   "cell_type": "markdown",
   "metadata": {},
   "source": [
    "Here is an example how to load and save image from Helsinki city map service https://kartta.hel.fi/. More info can be found here https://www.hel.fi/helsinki/en/maps-and-transport/city-maps-and-gis/geographic-information-data/open-geographic-data\n",
    "\n",
    "The code snippet below demonstrates how to read in information from public geoinformation systems (GIS) using the Python package OWSLib (see https://geopython.github.io/OWSLib). After downloading a patch of the map covering Helsinki city area, we save this patch in the file \"HelsinkiPatch.jpg\" in the course data folder. "
   ]
  },
  {
   "cell_type": "code",
   "execution_count": null,
   "metadata": {},
   "outputs": [],
   "source": [
    "# the library owslib provides functions for accessing geospatial (location) information \n",
    "# and services (like kartta.hel.fi)\n",
    "from owslib.wms import WebMapService # import WebMapService from library owalib.wms\n",
    "# the library io provides functions for handling data in the form of bitstreams (\"raw\" data)\n",
    "import io                            # import library io\n",
    "# the library numpy provides functions for matrices and vectors \n",
    "import numpy as np                   # import library numpy as np\n",
    "# the library matplotlib.pyplot provides functions for plotting data \n",
    "import matplotlib.pyplot as plt      # import library matplotlib.pyplot as plt\n",
    "# The Python Imaging Library (PIL) provides helpful functions for image processing \n",
    "from PIL import Image\n",
    "\n",
    "# get the helsinki map\n",
    "wms = WebMapService('https://kartta.hel.fi/ws/geoserver/avoindata/wms', version='1.1.1')\n",
    "\n",
    "# select the coordinate system to be used \n",
    "# https://en.wikipedia.org/wiki/EPSG_Geodetic_Parameter_Dataset\n",
    "cs = 'EPSG:4326'  \n",
    "\n",
    "# specify region of Helsinki city area map\n",
    "xmin = 24.92      # x-coordinate of bottom-left corner \n",
    "ymin = 60.15      # y-coordinate of bottom-left corner \n",
    "xmax = 24.99      # x-coordinate of upper-right corner\n",
    "ymax = 60.20      # y-coordinate of upper-right corner\n",
    "\n",
    "# divide Helsinki area into 50 by 50 patches\n",
    "nr_patches_x = 50 \n",
    "nr_patches_y = 50 \n",
    "\n",
    "# determine dimensions of one single patch\n",
    "patch_x = (xmax-xmin)/nr_patches_x  \n",
    "patch_y = (ymax-ymin)/nr_patches_y\n",
    "\n",
    "# choose one particular patch and determine the corresponding bounding box \n",
    "nr_x = 11\n",
    "nr_y = 10\n",
    "patch_box = (xmin+nr_x*patch_x,ymin+nr_y*patch_y,xmin+(nr_x+1)*patch_x,ymin+(nr_y+1)*patch_y) \n",
    "\n",
    "# choose a layer from the map service (for a list of available layers visit https://kartta.hel.fi)\n",
    "ortholayer = 'avoindata:Ortoilmakuva_2019_5cm' \n",
    "# set the resolution in number of pixels used in each direction \n",
    "res = (1000,1000) \n",
    "# get the image based on patch parameters (see above linked documentation for more details)\n",
    "img = wms.getmap(layers=[ortholayer],srs=cs,bbox=patch_box,size=res,format='image/jpeg',transparent=True) \n",
    "\n",
    "# convert the raw image data into an image object \n",
    "pic = Image.open(io.BytesIO(img.read())) \n",
    "\n",
    "# convert image object into a numpy array \n",
    "# each entry of this numpy array represents a particular pixel of the image\n",
    "X = np.array(pic, dtype='uint8') \n",
    "# initialize a plot figure of size 10 x 10 inches\n",
    "fig = plt.figure(figsize=(10,10))  \n",
    "# add the image to the plot\n",
    "plt.imshow(X) \n",
    "# display the plot\n",
    "plt.show()"
   ]
  },
  {
   "cell_type": "markdown",
   "metadata": {},
   "source": [
    "<a id='Q12'></a>\n",
    "<div class=\" alert alert-info\"> \n",
    "    \n",
    "# <center>Working with Images in Numpy</center>\n",
    "    \n",
    "</div>"
   ]
  },
  {
   "cell_type": "markdown",
   "metadata": {},
   "source": [
    "Numpy arrays can represent RGB or grayscale images and, in the other direction, images can be stored as numpy arrays."
   ]
  },
  {
   "cell_type": "code",
   "execution_count": null,
   "metadata": {},
   "outputs": [],
   "source": [
    "# Numpy array represented as RGB image\n",
    "# define size of the image in pixels\n",
    "width = 40   # number of columns in numpy array X\n",
    "height = 30  # number of rows in numpy array X\n",
    "\n",
    "# create 30x40x3 numpy array with values between 0 and 255\n",
    "X = np.random.randint(0,256,width*height*3).reshape(height,width,3)\n",
    "\n",
    "# create a plot of size 4 by 4 inches \n",
    "fig = plt.figure(figsize=(4,4))\n",
    "\n",
    "# remove all axes from the plot\n",
    "plt.axis('off')\n",
    "# display numpy array X as RGB image\n",
    "plt.imshow(X)\n",
    "plt.show()"
   ]
  },
  {
   "cell_type": "markdown",
   "metadata": {},
   "source": [
    "<img src=\"../../../coursedata/R0_Intro/ImageNumpy.jpg\" style=\"height: 600px;\"/>"
   ]
  },
  {
   "cell_type": "markdown",
   "metadata": {},
   "source": [
    "The code snippet below demonstrates how to read in a RGB image from a JPG file and transform it to a grayscale image. This can be done conveniently using the Python library `PIL` (see https://pillow.readthedocs.io/en/stable/reference/Image.html)\n"
   ]
  },
  {
   "cell_type": "code",
   "execution_count": null,
   "metadata": {
    "scrolled": true
   },
   "outputs": [],
   "source": [
    "# The Python Imaging Library (PIL) provides helpful functions for image processing \n",
    "from PIL import Image # import Image from library PIL\n",
    "\n",
    "# construct a variable \"filename\" which contains the relative path of the jpg file \n",
    "filename = \"../../../coursedata/R0_Intro/HelsinkiPatch.jpg\"\n",
    "\n",
    "# read in the jpg file \n",
    "imagedata = Image.open(filename)\n",
    "\n",
    "# Check some properties of the image \n",
    "print(\"File format: \",imagedata.format) \n",
    "print(\"Size in pixles: \",imagedata.size)  \n",
    "print(\"Pixel format\",imagedata.mode)  \n",
    "\n",
    "# Read image as numpy array\n",
    "X=np.asarray(Image.open(filename).convert(\"RGB\"))\n",
    "# As you can see this array have values for all pixels in each RGB channel\n",
    "print(\"Numpy array shape: \",X.shape)\n",
    "print(\"Numpy array data type:\",X.dtype)"
   ]
  },
  {
   "cell_type": "code",
   "execution_count": null,
   "metadata": {},
   "outputs": [],
   "source": [
    "# create a plot of size 10 by 10 inches \n",
    "fig = plt.figure(figsize=(10,10))\n",
    "# display image stored as RGB values in the numpy array X \n",
    "plt.imshow(X)\n",
    "plt.show()"
   ]
  },
  {
   "cell_type": "code",
   "execution_count": null,
   "metadata": {},
   "outputs": [],
   "source": [
    "# Convert RGB image to gray scale (model \"L\")\n",
    "# transformation is made with formula -  L = R * 299/1000 + G * 587/1000 + B * 114/1000\n",
    "\n",
    "X = np.asarray(Image.open(filename).convert(\"L\"))\n",
    "\n",
    "# create a plot of size 10 by 10 inches \n",
    "fig = plt.figure(figsize=(10,10))\n",
    "\n",
    "# display image stored as RGB values in the numpy array X \n",
    "plt.imshow(X, cmap=plt.get_cmap('gray'))\n",
    "plt.show()"
   ]
  },
  {
   "cell_type": "code",
   "execution_count": null,
   "metadata": {},
   "outputs": [],
   "source": []
  }
 ],
 "metadata": {
  "kernelspec": {
   "display_name": "Python 3",
   "language": "python",
   "name": "python3"
  },
  "language_info": {
   "codemirror_mode": {
    "name": "ipython",
    "version": 3
   },
   "file_extension": ".py",
   "mimetype": "text/x-python",
   "name": "python",
   "nbconvert_exporter": "python",
   "pygments_lexer": "ipython3",
   "version": "3.7.4"
  },
  "nbdime-conflicts": {
   "local_diff": [
    {
     "diff": [
      {
       "diff": [
        {
         "diff": [
          {
           "key": 4,
           "op": "addrange",
           "valuelist": "3"
          },
          {
           "key": 4,
           "length": 1,
           "op": "removerange"
          }
         ],
         "key": 0,
         "op": "patch"
        }
       ],
       "key": "version",
       "op": "patch"
      }
     ],
     "key": "language_info",
     "op": "patch"
    }
   ],
   "remote_diff": [
    {
     "diff": [
      {
       "diff": [
        {
         "diff": [
          {
           "key": 4,
           "op": "addrange",
           "valuelist": "4"
          },
          {
           "key": 4,
           "length": 1,
           "op": "removerange"
          }
         ],
         "key": 0,
         "op": "patch"
        }
       ],
       "key": "version",
       "op": "patch"
      }
     ],
     "key": "language_info",
     "op": "patch"
    }
   ]
  },
  "toc": {
   "base_numbering": 1,
   "nav_menu": {},
   "number_sections": false,
   "sideBar": true,
   "skip_h1_title": false,
   "title_cell": "Table of Contents",
   "title_sidebar": "Contents",
   "toc_cell": false,
   "toc_position": {
    "height": "507.275px",
    "left": "23.975px",
    "top": "145.5px",
    "width": "318px"
   },
   "toc_section_display": true,
   "toc_window_display": true
  },
  "varInspector": {
   "cols": {
    "lenName": 16,
    "lenType": 16,
    "lenVar": 40
   },
   "kernels_config": {
    "python": {
     "delete_cmd_postfix": "",
     "delete_cmd_prefix": "del ",
     "library": "var_list.py",
     "varRefreshCmd": "print(var_dic_list())"
    },
    "r": {
     "delete_cmd_postfix": ") ",
     "delete_cmd_prefix": "rm(",
     "library": "var_list.r",
     "varRefreshCmd": "cat(var_dic_list()) "
    }
   },
   "oldHeight": 194.85,
   "position": {
    "height": "216.85px",
    "left": "1417px",
    "right": "18px",
    "top": "126px",
    "width": "485px"
   },
   "types_to_exclude": [
    "module",
    "function",
    "builtin_function_or_method",
    "instance",
    "_Feature"
   ],
   "varInspector_section_display": "block",
   "window_display": false
  }
 },
 "nbformat": 4,
 "nbformat_minor": 2
}
