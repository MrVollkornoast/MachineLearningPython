{
 "cells": [
  {
   "cell_type": "markdown",
   "metadata": {
    "nbgrader": {
     "grade": false,
     "grade_id": "cell-9d7b14515f624f0c",
     "locked": true,
     "schema_version": 3,
     "solution": false,
     "task": false
    }
   },
   "source": [
    "#  Machine Learning with Python - Classification\n",
    "\n",
    "In this exercise, you will learn how to formulate and solve a **classification problem**. A classification problem amounts to finding a good predictor or classifier which maps a given data point via its features to a predicted value of its label (which is the quantity of interest). \n",
    "\n",
    "Recall that **regression problems** are machine learning problems that involve data points with a numeric label such as the grayscale level of a pixel. In contrast, **classification problems** arise from data points whose labels have only a finite number of different values. The most simple classification problem is a **binary classification problem** where the label can take on only two different values such as $y=0$ vs. $y=1$ or $y$=\"picture includes a pedestrian crossing\" vs. $y$=\"picture does not include pedestrian crossing\". The label $y$ of a data point indicates to which class (or category) the data point belongs to. \n",
    "\n",
    "We consider two widely used methods for solving classification problems: **logistic regression** and **decision trees**. These two methods differ in the choice of hypothesis space, i.e., the set of predictor functions $h(\\mathbf{x})$ that map the features $\\mathbf{x}$ of a data point to a predicted label $\\hat{y}=h(\\mathbf{x})$, which is hopefully a good approximation of the true label $y$. \n",
    "\n",
    "We mainly consider binary classification problems with data points having labels from a set of size two such as $\\{0,1\\}$ or {\"image shows a crossing\", \"image shows no crossing\"}. However, we will also discuss a simple approach to upgrade any binary classification method to solve classification problems with more than two label values such as {\"image shows one crossing\", \"image shows more than one crossing\", \"image shows no crossing\"}. We refer to classification problems with more than two label values (or categories) as **multi-class classification problems**. "
   ]
  },
  {
   "cell_type": "markdown",
   "metadata": {
    "nbgrader": {
     "grade": false,
     "grade_id": "cell-02d2af48a0fcd974",
     "locked": true,
     "schema_version": 3,
     "solution": false,
     "task": false
    }
   },
   "source": [
    "## Learning goals\n",
    "\n",
    "After this round, you should  \n",
    "\n",
    "- be able to model \"real-world\" applications as classification problems by identifying features and labels. \n",
    "- be able to solve classification problems using logistic regression or decision trees. \n",
    "- be able to assess the reliability of classifications provided by logistic regression. \n",
    "- know about the differences between decision trees and logistic regression. \n",
    "- know how to extend binary classification methods to multi-class problems where labels can take on more than two different values. \n",
    "\n",
    "\n",
    "## Additional Material \n",
    "* Relevant Sections in [Course Book](https://arxiv.org/abs/1805.05052)  (Chapter 2, 3.4 and 3.6)\n",
    "* [video-lecture](https://www.youtube.com/watch?v=-la3q9d7AKQ) of Prof. Andrew Ng on classification problems and logistic regression \n",
    "* [video-lecture](https://www.youtube.com/watch?v=ZvaELFv5IpM) of Prof. Andrew Ng on extending binary classification methods to multi-class problems "
   ]
  },
  {
   "cell_type": "markdown",
   "metadata": {
    "nbgrader": {
     "grade": false,
     "grade_id": "cell-a5592b3f1c6bf91d",
     "locked": true,
     "schema_version": 3,
     "solution": false
    }
   },
   "source": [
    "## The Problem\n",
    "\n",
    "<img src=\"../../../coursedata/R3_Classification/CrossingDetection.png\" alt=\"Drawing\" style=\"width: 600px;\"/>\n",
    "\n",
    "The city planners of Helsinki are regularly sending small airplanes over Helsinki to take high-resolution aerial photographs of different city areas. These aerial photographs are available via the open data service at https://kartta.hel.fi. It is important to monitor the condition of pedestrian crossings to determine if a renewal is necessary. To this end, we want to find those areas which contain a pedestrian crossing. \n",
    "\n",
    "In this exercise, you will learn how to use classification methods to determine if a particular area contains a pedestrian (zebra) crossing or not. We model this pedestrian crossing detection as a machine learning problem. The problem amounts to learn a predictor (or classifier) map $h(\\mathbf{x})$ which delivers a predicted label $\\hat{y} = h(\\mathbf{x})$ which indicates if a certain area contains a pedestrian crossing or not. The classification is based on numeric features $\\mathbf{x}=\\big(x_{1},\\ldots,x_{n}\\big)^{T}$ that are computed from an aerial photograph of the area in question.  \n",
    "\n",
    "We will solve this binary classification problem using two different classification methods: logistic regression and decision trees. These two methods differ in the choice of hypothesis space. Decision tree classifiers use a flow-chart representation of the predictor function. In contrast, logistic regression uses the hypothesis space of linear predictor functions which is also used in linear regression (see Round 2 - Regression). \n",
    "\n",
    "The difference between logistic and linear regression is the set of label values, which is the real numbers for linear regression and a set of size two for logistic regression. Another difference between linear and logistic regression is the loss function. While linear regression is based on minizing the squared error loss, logistic regression minimizes the logistic loss function which will be explained below. \n",
    "\n",
    "As you might already know, most machine learning problems (and methods) consist of three components: \n",
    "\n",
    "* some **data** (a bunch of data points, each of which is characterized by features and labels) \n",
    "* a **hypothesis space** (consisting of a set of predictor functions from features to labels)\n",
    "* a **loss function** which is used to assess the quality of a particular predictor function \n",
    "\n",
    "In what follows, we will discuss particular choices for these three components to solve the pedestrian crossing detection problem. \n",
    "\n",
    "## The Data\n",
    "\n",
    "ML methods aim at finding a good predictor map (or classifier) $h(\\mathbf{x})$ which takes some features $\\mathbf{x}$ as input and outputs an estimate for the label $y$ of the data point (which represents an area of Helsinki in our application). To measure the quality of a particular predictor $h(\\mathbf{x})$ we apply it on data points for which we know already the true label values $y$. The basic principle of classification methods is then to find (or learn) the best predictor function out of a set of computationally feasible functions (the hypothesis space). \n",
    "\n",
    "We have access to a data set consisting of $m=178$ data points $\\big(\\mathbf{x}^{(i)},y^{(i)}\\big)$ for $i=1,\\ldots,m$. Each data point $\\big(\\mathbf{x}^{(i)},y^{(i)}\\big)$ represents a particular city area. This city area is characterized by several features $\\mathbf{x}^{(i)}=\\big(x^{(i)}_{1},\\ldots,x^{(i)}_{n}\\big)^{T}$ that are computed from an aerial photograph of that area. You can learn more about some efficient methods for automatically determining relevant features of an image [here](https://opencv-python-tutroals.readthedocs.io/en/latest/py_tutorials/py_feature2d/py_table_of_contents_feature2d/py_table_of_contents_feature2d.html). The data point $\\big(\\mathbf{x}^{(i)},y^{(i)}\\big)$ is also characterized by the true label $y^{(i)}$ which has been found out by a city planner who manually inspected the areal photograph. \n",
    "\n",
    "We can use the **labeled data** $\\big(\\mathbf{x}^{(i)},y^{(i)}\\big)$ for $i=1,\\ldots,m$, to find a good predictor map $h(\\mathbf{x})$. In contrast to regression problems, where the ouput $h(\\mathbf{x})$ of a predictor map is a (real) number, here the ouput $h(\\mathbf{x})$ is a discrete label value or category. In this case it is customary to use the term **classifier** for the prediction map $h(\\mathbf{x})$.\n",
    "\n",
    "A good classifier $h(\\mathbf{x})$ should at least agree well with similar human judgment,\n",
    "\\begin{equation} \n",
    "\\underbrace{y^{(i)}}_{\\mbox{label by human}} \\approx \\underbrace{h(\\mathbf{x}^{(i)})}_{\\mbox{predicted label } \\hat{y}^{(i)}}  \\mbox{ for all } i =1,\\ldots,m. \n",
    "\\end{equation}\n",
    "\n",
    "To sum up, \n",
    "* The dataset contains information about $m=178$ areas in city of Helsinki.  \n",
    "* For each area, a feature vector $\\mathbf{x}^{(i)}$ containing $n=13$ features has been determined. \n",
    "* For each area, a city planner determined the class $c^{(i)}$ which is either \n",
    "     * $c^{(i)} = 0$ (area has no pedestrian crossing)\n",
    "     * $c^{(i)}=1$ (area has one pedestrian crossing) \n",
    "     * $c^{(i)}=2$ (area has more than one pedestrian crossing)"
   ]
  },
  {
   "cell_type": "markdown",
   "metadata": {
    "nbgrader": {
     "grade": false,
     "grade_id": "cell-412f596e08777d50",
     "locked": true,
     "schema_version": 3,
     "solution": false
    }
   },
   "source": [
    "<a id='demoboundary'></a>\n",
    "<div class=\"alert alert-info\">\n",
    "    \n",
    "### Demo. Load Data.\n",
    "\n",
    "The code snippet below loads the dataset with information of $m=178$ city areas. The $i$-th data point is characterized by the feature vector $\\mathbf{x}^{(i)} \\in \\mathbb{R}^{n}$ and the category $c^{(i)} \\in \\{0,1,2\\}$ as determined by a human eye. The features and categories for the first five images $i=1,\\dots,5$ are displayed. \n",
    "</div>"
   ]
  },
  {
   "cell_type": "code",
   "execution_count": 1,
   "metadata": {
    "nbgrader": {
     "grade": false,
     "grade_id": "cell-76512dcd520fdc10",
     "locked": true,
     "schema_version": 3,
     "solution": false,
     "task": false
    }
   },
   "outputs": [
    {
     "name": "stderr",
     "output_type": "stream",
     "text": [
      "In C:\\Users\\mikko\\Anaconda3\\lib\\site-packages\\matplotlib\\mpl-data\\stylelib\\_classic_test.mplstyle: \n",
      "The text.latex.unicode rcparam was deprecated in Matplotlib 3.0 and will be removed in 3.2.\n",
      "In C:\\Users\\mikko\\Anaconda3\\lib\\site-packages\\matplotlib\\mpl-data\\stylelib\\_classic_test.mplstyle: \n",
      "The savefig.frameon rcparam was deprecated in Matplotlib 3.1 and will be removed in 3.3.\n",
      "In C:\\Users\\mikko\\Anaconda3\\lib\\site-packages\\matplotlib\\mpl-data\\stylelib\\_classic_test.mplstyle: \n",
      "The pgf.debug rcparam was deprecated in Matplotlib 3.0 and will be removed in 3.2.\n",
      "In C:\\Users\\mikko\\Anaconda3\\lib\\site-packages\\matplotlib\\mpl-data\\stylelib\\_classic_test.mplstyle: \n",
      "The verbose.level rcparam was deprecated in Matplotlib 3.1 and will be removed in 3.3.\n",
      "In C:\\Users\\mikko\\Anaconda3\\lib\\site-packages\\matplotlib\\mpl-data\\stylelib\\_classic_test.mplstyle: \n",
      "The verbose.fileo rcparam was deprecated in Matplotlib 3.1 and will be removed in 3.3.\n"
     ]
    }
   ],
   "source": [
    "############################# IMPORTANT! #############################\n",
    "# This cell needs to be run to load the necessary libraries and data #\n",
    "######################################################################\n",
    "\n",
    "%matplotlib inline\n",
    "import numpy as np\n",
    "from numpy.linalg import norm\n",
    "import pandas as pd\n",
    "import seaborn as sns\n",
    "import matplotlib.pyplot as plt\n",
    "\n",
    "from sklearn import metrics\n",
    "from sklearn import datasets\n",
    "from sklearn import preprocessing\n",
    "from sklearn.tree import DecisionTreeClassifier\n",
    "from sklearn.linear_model import LogisticRegression"
   ]
  },
  {
   "cell_type": "code",
   "execution_count": 2,
   "metadata": {
    "nbgrader": {
     "grade": false,
     "grade_id": "cell-f5276acd5385a727",
     "locked": true,
     "schema_version": 3,
     "solution": false,
     "task": false
    }
   },
   "outputs": [
    {
     "name": "stdout",
     "output_type": "stream",
     "text": [
      "Data shape:\t(178, 15) \n",
      "Labels shape: \t(178, 1)\n",
      "Number of samples from Class 0: 59\n",
      "Number of samples from Class 1: 71\n",
      "Number of samples from Class 2: 48\n",
      "\n",
      "The first five data points:\n"
     ]
    },
    {
     "data": {
      "text/html": [
       "<div>\n",
       "<style scoped>\n",
       "    .dataframe tbody tr th:only-of-type {\n",
       "        vertical-align: middle;\n",
       "    }\n",
       "\n",
       "    .dataframe tbody tr th {\n",
       "        vertical-align: top;\n",
       "    }\n",
       "\n",
       "    .dataframe thead th {\n",
       "        text-align: right;\n",
       "    }\n",
       "</style>\n",
       "<table border=\"1\" class=\"dataframe\">\n",
       "  <thead>\n",
       "    <tr style=\"text-align: right;\">\n",
       "      <th></th>\n",
       "      <th>x0</th>\n",
       "      <th>x1</th>\n",
       "      <th>x2</th>\n",
       "      <th>x3</th>\n",
       "      <th>x4</th>\n",
       "      <th>x5</th>\n",
       "      <th>x6</th>\n",
       "      <th>x7</th>\n",
       "      <th>x8</th>\n",
       "      <th>x9</th>\n",
       "      <th>x10</th>\n",
       "      <th>x11</th>\n",
       "      <th>x12</th>\n",
       "      <th>target</th>\n",
       "      <th>class</th>\n",
       "    </tr>\n",
       "  </thead>\n",
       "  <tbody>\n",
       "    <tr>\n",
       "      <th>0</th>\n",
       "      <td>14.23</td>\n",
       "      <td>1.71</td>\n",
       "      <td>2.43</td>\n",
       "      <td>15.6</td>\n",
       "      <td>127.0</td>\n",
       "      <td>2.80</td>\n",
       "      <td>3.06</td>\n",
       "      <td>0.28</td>\n",
       "      <td>2.29</td>\n",
       "      <td>5.64</td>\n",
       "      <td>1.04</td>\n",
       "      <td>3.92</td>\n",
       "      <td>1065.0</td>\n",
       "      <td>0</td>\n",
       "      <td>zero crossing</td>\n",
       "    </tr>\n",
       "    <tr>\n",
       "      <th>1</th>\n",
       "      <td>13.20</td>\n",
       "      <td>1.78</td>\n",
       "      <td>2.14</td>\n",
       "      <td>11.2</td>\n",
       "      <td>100.0</td>\n",
       "      <td>2.65</td>\n",
       "      <td>2.76</td>\n",
       "      <td>0.26</td>\n",
       "      <td>1.28</td>\n",
       "      <td>4.38</td>\n",
       "      <td>1.05</td>\n",
       "      <td>3.40</td>\n",
       "      <td>1050.0</td>\n",
       "      <td>0</td>\n",
       "      <td>zero crossing</td>\n",
       "    </tr>\n",
       "    <tr>\n",
       "      <th>2</th>\n",
       "      <td>13.16</td>\n",
       "      <td>2.36</td>\n",
       "      <td>2.67</td>\n",
       "      <td>18.6</td>\n",
       "      <td>101.0</td>\n",
       "      <td>2.80</td>\n",
       "      <td>3.24</td>\n",
       "      <td>0.30</td>\n",
       "      <td>2.81</td>\n",
       "      <td>5.68</td>\n",
       "      <td>1.03</td>\n",
       "      <td>3.17</td>\n",
       "      <td>1185.0</td>\n",
       "      <td>0</td>\n",
       "      <td>zero crossing</td>\n",
       "    </tr>\n",
       "    <tr>\n",
       "      <th>3</th>\n",
       "      <td>14.37</td>\n",
       "      <td>1.95</td>\n",
       "      <td>2.50</td>\n",
       "      <td>16.8</td>\n",
       "      <td>113.0</td>\n",
       "      <td>3.85</td>\n",
       "      <td>3.49</td>\n",
       "      <td>0.24</td>\n",
       "      <td>2.18</td>\n",
       "      <td>7.80</td>\n",
       "      <td>0.86</td>\n",
       "      <td>3.45</td>\n",
       "      <td>1480.0</td>\n",
       "      <td>0</td>\n",
       "      <td>zero crossing</td>\n",
       "    </tr>\n",
       "    <tr>\n",
       "      <th>4</th>\n",
       "      <td>13.24</td>\n",
       "      <td>2.59</td>\n",
       "      <td>2.87</td>\n",
       "      <td>21.0</td>\n",
       "      <td>118.0</td>\n",
       "      <td>2.80</td>\n",
       "      <td>2.69</td>\n",
       "      <td>0.39</td>\n",
       "      <td>1.82</td>\n",
       "      <td>4.32</td>\n",
       "      <td>1.04</td>\n",
       "      <td>2.93</td>\n",
       "      <td>735.0</td>\n",
       "      <td>0</td>\n",
       "      <td>zero crossing</td>\n",
       "    </tr>\n",
       "  </tbody>\n",
       "</table>\n",
       "</div>"
      ],
      "text/plain": [
       "      x0    x1    x2    x3     x4    x5    x6    x7    x8    x9   x10   x11  \\\n",
       "0  14.23  1.71  2.43  15.6  127.0  2.80  3.06  0.28  2.29  5.64  1.04  3.92   \n",
       "1  13.20  1.78  2.14  11.2  100.0  2.65  2.76  0.26  1.28  4.38  1.05  3.40   \n",
       "2  13.16  2.36  2.67  18.6  101.0  2.80  3.24  0.30  2.81  5.68  1.03  3.17   \n",
       "3  14.37  1.95  2.50  16.8  113.0  3.85  3.49  0.24  2.18  7.80  0.86  3.45   \n",
       "4  13.24  2.59  2.87  21.0  118.0  2.80  2.69  0.39  1.82  4.32  1.04  2.93   \n",
       "\n",
       "      x12  target          class  \n",
       "0  1065.0       0  zero crossing  \n",
       "1  1050.0       0  zero crossing  \n",
       "2  1185.0       0  zero crossing  \n",
       "3  1480.0       0  zero crossing  \n",
       "4   735.0       0  zero crossing  "
      ]
     },
     "metadata": {},
     "output_type": "display_data"
    }
   ],
   "source": [
    "# Load the dataset and store data and labels in variables\n",
    "data = pd.read_csv(\"../../data/R3_Classification/image_data.csv\", header=None)\n",
    "c = pd.read_csv(\"../../data/R3_Classification/image_labels.csv\", header=None)\n",
    "\n",
    "# Add column names to feature dataframe (x1,...,x13)\n",
    "data.columns = [\"x\" + str(i) for i in range(data.shape[1])]\n",
    "\n",
    "# Add labels (target) column to the dataframe\n",
    "data['target'] = c\n",
    "\n",
    "# Add column containing the class names corresponding to the target \n",
    "category_names = [\"zero crossing\", \"one crossing\", \"multiple crossings\" ] # set possible categories for our labels\n",
    "data['class'] = data['target'].map(lambda ind: category_names[ind])\n",
    "\n",
    "# Print information of dataset\n",
    "print(f\"Data shape:\\t{data.shape} \\nLabels shape: \\t{c.shape}\")\n",
    "print(f\"Number of samples from Class 0: {sum(c[0] == 0)}\")\n",
    "print(f\"Number of samples from Class 1: {sum(c[0] == 1)}\")\n",
    "print(f\"Number of samples from Class 2: {sum(c[0] == 2)}\")\n",
    "\n",
    "# Display first five datapoints using pandas\n",
    "print(\"\\nThe first five data points:\")\n",
    "display(data.head(5))"
   ]
  },
  {
   "cell_type": "markdown",
   "metadata": {
    "nbgrader": {
     "grade": false,
     "grade_id": "cell-4a084869afc0c5ec",
     "locked": true,
     "schema_version": 3,
     "solution": false
    }
   },
   "source": [
    "### Features and Labels \n",
    "\n",
    "Recall that our goal is to classify an area based on features of an areal photograph of that area. The $i$-th area is characterized by the features $x^{(i)}_{1},\\ldots,x^{(i)}_{13}$ which we collect into the **feature vector** $\\mathbf{x}^{(i)} = \\big(x_{1}^{(i)},x_{2}^{(i)}, ... x_{13}^{(i)} \\big)^{T} \\in \\mathbb{R}^{13}$. It will be convenient to stack the feature vectors $\\mathbf{x}^{(i)} \\in \\mathbb{R}^{13}$, obtained for all data points $i=1,\\dots,m$, into the feature matrix \n",
    "\n",
    "<a id='xm'></a>\n",
    "\\begin{equation*}\n",
    "    \\mathbf{X} = \\big(\\mathbf{x}^{(1)},\\dots,\\mathbf{x}^{(178)}\\big)^T=\\begin{bmatrix}\n",
    "    x^{(1)}_{1}  & \\dots & x^{(1)}_{13} \\\\\n",
    "    \\vdots & \\ddots & \\vdots\\\\\n",
    "    x^{(178)}_{1} & \\dots & x^{(178)}_{13}\n",
    "    \\end{bmatrix},\\ \\mathbf{X} \\in \\mathbb{R}^{m \\times n},\\ \\text{where } m=178, n=13.\n",
    "    \\tag{1}\n",
    "\\end{equation*}\n",
    "\n",
    "Besides its features $\\mathbf{x}^{(i)}$, the $i$-th area is characterized by the category $c^{(i)} \\in \\{0,1,2\\}$ which has been determined by a human expert. In principle, we could directly use the category $c^{(i)}$ as the label or quantity of interest. However, we will first consider the simpler problem of determining if a particular area does not have a pedestrian crossing ($c^{(i)} = 0$) of if it has some pedestrian crossing ($c^{(i)}=1$ or $c^{(i)}=2$). Thus, we define the label of an area as $y^{(i)}=1$ if $c^{(i)} = 0$. Otherwise, we define the label $y^{(i)}=0$ if the area shows at least one pedestrican crossing, corresponding to $c^{(i)} = 1$ or $c^{(i)}=2$. \n",
    "\n",
    "It will be convenient to collect the labels of all images into the label vector \n",
    "\n",
    "<a id='vy'></a>\n",
    "\\begin{equation*}\n",
    "    \\mathbf{y}=\\big(y^{(1)},y^{(2)},\\ldots,y^{(m)} \\big)^{T} = \\begin{bmatrix}\n",
    "    y^{(1)}\\\\\n",
    "    y^{(2)}\\\\\n",
    "    \\vdots\\\\\n",
    "    y^{(m)}\n",
    "    \\end{bmatrix} \\in \\mathbb{R}^{m}.\n",
    "    \\tag{2}\n",
    "\\end{equation*}\n"
   ]
  },
  {
   "cell_type": "markdown",
   "metadata": {
    "nbgrader": {
     "grade": false,
     "grade_id": "cell-17287368c834f17a",
     "locked": true,
     "schema_version": 3,
     "solution": false
    }
   },
   "source": [
    "<a id='featurefunction'></a>\n",
    "<div class=\" alert alert-warning\">\n",
    "    <b>Student Task.</b> Feature Matrix. \n",
    "\n",
    "Implement a Python function `feature_matrix()` which loads the image dataset and returns the feature matrix ([1](#xm)) of size $178 \\times 13$ containing $n=13$ features for each of the $m=178$ areas. The $i$-th row of the feature matrix contains the features $x^{(i)}_{1},\\ldots,x^{(i)}_{n}$ of the $i$-th area. \n",
    "\n",
    "\n",
    "* Use `pandas.read_csv()` function ([link to docs](https://pandas.pydata.org/pandas-docs/stable/reference/api/pandas.read_csv.html)) to load .csv file. \n",
    "    \n",
    "* We also need to use preprocessing step ([read more here](https://scikit-learn.org/stable/modules/preprocessing.html#preprocessing-data)) as our features are in different scales (some of the features are in the range of 0-1 and some in the order of hundreds and thousands). Large difference in the range of the features may negatively affect learning predictor with certain algorithms (which may be expressed as `ConvergenceWarning` error). To preprocess data matrix X use `preprocessing.scale(X)` function ([see examples here](https://scikit-learn.org/stable/modules/preprocessing.html#standardization-or-mean-removal-and-variance-scaling)). \n",
    "    \n",
    "* Function should return preprocessed (scaled) data matrix.\n",
    "\n",
    "</div>"
   ]
  },
  {
   "cell_type": "code",
   "execution_count": 3,
   "metadata": {
    "nbgrader": {
     "grade": false,
     "grade_id": "cell-577310fb782f61d2",
     "locked": false,
     "schema_version": 3,
     "solution": true
    }
   },
   "outputs": [],
   "source": [
    "def feature_matrix():\n",
    "    \"\"\"\n",
    "    Generate a feature matrix representing different descriptive statistics of an image in the dataset.\n",
    "\n",
    "    :return: array-like, shape=(m, n), feature-matrix with n features for each of m images. \"\"\"  \n",
    "    \n",
    "    file = \"../../data/R3_Classification/image_data.csv\"   \n",
    "    \n",
    "    ### STUDENT TASK ###   \n",
    "    # X = ...\n",
    "    # X_scaled = ...\n",
    "    ### BEGIN SOLUTION   \n",
    "    X = pd.read_csv(file, header = None).to_numpy()\n",
    "    X_scaled = preprocessing.scale(X)\n",
    "    ### END SOLUTION\n",
    "    return X_scaled"
   ]
  },
  {
   "cell_type": "code",
   "execution_count": 4,
   "metadata": {
    "nbgrader": {
     "grade": true,
     "grade_id": "cell-840700cb14517bbf",
     "locked": true,
     "points": 1,
     "schema_version": 3,
     "solution": false
    }
   },
   "outputs": [
    {
     "name": "stdout",
     "output_type": "stream",
     "text": [
      "All tests passed!\n"
     ]
    }
   ],
   "source": [
    "test_matrix = feature_matrix()\n",
    "assert test_matrix.shape == (178, 13), f'feature_matrix returns wrong matrix for m=1. It should be shape (178,13), but you gave {test_matrix.shape}'\n",
    "np.testing.assert_almost_equal(np.mean(test_matrix[:,0]), 0, err_msg=\"The feature matrix is not scaled correctly.\")\n",
    "print('All tests passed!')"
   ]
  },
  {
   "cell_type": "markdown",
   "metadata": {
    "nbgrader": {
     "grade": false,
     "grade_id": "cell-acac139fee4f522f",
     "locked": true,
     "schema_version": 3,
     "solution": false
    }
   },
   "source": [
    "<a id='labelfunction'></a>\n",
    "<div class=\" alert alert-warning\">\n",
    "    <b>Student Task.</b> Label Vector. \n",
    "\n",
    "Implement a Python function `y=labels()` which loads the image dataset and returns the label vector ([2](#vy)) of length $m$ where `m` is the number of images described in the dataset. The $i$th entry $y^{(i)}$ of the returned vector should be $y^{(i)}=1$ if the $i$th image is from Class 0 and $y^{(i)}=0$ otherwise.\n",
    "   \n",
    "* Use `pandas.read_csv()` function ([link to docs](https://pandas.pydata.org/pandas-docs/stable/reference/api/pandas.read_csv.html)) to load .csv file. \n",
    "\n",
    "* The shape of the label vector `y` should be (178,) (not (178,1)) as later on we will fit our data to LogisticRegression classifier and required shape of `y` is (n_samples,) [see more here](https://scikit-learn.org/stable/modules/generated/sklearn.linear_model.LogisticRegression.html#sklearn.linear_model.LogisticRegression.fit).\n",
    "    \n",
    "</div>"
   ]
  },
  {
   "cell_type": "code",
   "execution_count": 5,
   "metadata": {
    "nbgrader": {
     "grade": false,
     "grade_id": "cell-b67c7f64aa86fbba",
     "locked": false,
     "schema_version": 3,
     "solution": true
    }
   },
   "outputs": [],
   "source": [
    "def labels():\n",
    "    \"\"\" \n",
    "    :return: array-like, shape=(m,), label-vector\n",
    "    \"\"\"    \n",
    "    file = \"../../data/R3_Classification/image_labels.csv\"\n",
    "    \n",
    "    ### STUDENT TASK ###\n",
    "    ### BEGIN SOLUTION\n",
    "    cat = pd.read_csv(file, header=None).to_numpy()\n",
    "    y = (cat == 0).astype(int)\n",
    "    y = y.reshape(-1,)\n",
    "    ### END SOLUTION\n",
    "    return y"
   ]
  },
  {
   "cell_type": "code",
   "execution_count": 6,
   "metadata": {
    "nbgrader": {
     "grade": true,
     "grade_id": "cell-1230c58d375ceb1a",
     "locked": true,
     "points": 3,
     "schema_version": 3,
     "solution": false
    }
   },
   "outputs": [
    {
     "name": "stdout",
     "output_type": "stream",
     "text": [
      "All tests passed!\n"
     ]
    }
   ],
   "source": [
    "test_labels = labels()\n",
    "assert test_labels.shape == (178, ), f'Your label vector is incorrect shape. It should be (178,), but you gave {test_labels.shape}'\n",
    "for i in [1,20,40,58]:\n",
    "    assert test_labels[i] == 1, f'Image sample should be from class 0, but you labeled it as other class'\n",
    "for i in [59,80,100,150,177]:\n",
    "    assert test_labels[i] == 0, f'Image sample should be from class 1 or 2, but you labeled it as from class 0'\n",
    "\n",
    "### BEGIN HIDDEN TESTS\n",
    "np.testing.assert_array_equal(test_labels, np.array([1]*59+[0]*71+[0]*48))\n",
    "### END HIDDEN TESTS\n",
    "print('All tests passed!')"
   ]
  },
  {
   "cell_type": "markdown",
   "metadata": {
    "nbgrader": {
     "grade": false,
     "grade_id": "cell-e6a842c140cb4d36",
     "locked": true,
     "schema_version": 3,
     "solution": false
    }
   },
   "source": [
    "<a id='demoboundary'></a>\n",
    "<div class=\"alert alert-info\">\n",
    "    \n",
    "### Demo. Visualize Data Points.\n",
    "\n",
    "The code snippet below uses the functions from the previous tasks to load the features $\\mathbf{x}^{(i)}$ and labels $y^{(i)}$ of the images. We then visualize these data points using a scatter plot. In this scatter plot, the $i$-th data point is represented by either a dot (when $y^{(i)} =0$) or a cross ($y^{(i)}=1$) located at the coordinates given by the first two features $x_{1}^{(i)}$ and $x_{2}^{(i)}$.  \n",
    "</div>"
   ]
  },
  {
   "cell_type": "code",
   "execution_count": 7,
   "metadata": {
    "nbgrader": {
     "grade": false,
     "grade_id": "cell-062120c0d0af4eb0",
     "locked": true,
     "schema_version": 3,
     "solution": false
    }
   },
   "outputs": [
    {
     "data": {
      "image/png": "[encoded data removed]",
      "text/plain": [
       "<Figure size 720x432 with 1 Axes>"
      ]
     },
     "metadata": {
      "needs_background": "light"
     },
     "output_type": "display_data"
    }
   ],
   "source": [
    "# Load the features\n",
    "X = feature_matrix()\n",
    "# Load labels\n",
    "y = labels() \n",
    "\n",
    "idx_1 = np.where(y == 1) # indices of class 0 images\n",
    "idx_2 = np.where(y == 0) # indices of not class 0 images\n",
    "\n",
    "# Plot scatterplot of dataset with different markings for class 0 images\n",
    "fig, axes = plt.subplots(figsize=(10, 6))\n",
    "axes.scatter(X[idx_1, 0], X[idx_1, 1], c='green', marker ='x', label='y =1; Class 0 image')\n",
    "axes.scatter(X[idx_2, 0], X[idx_2, 1], c='brown', marker ='o', label='y =0; Class 1 or Class 2 image')\n",
    "\n",
    "# Set axis labels and legend\n",
    "axes.legend(loc='upper left', fontsize=12)\n",
    "axes.set_xlabel('feature x1', fontsize=16)\n",
    "axes.set_ylabel('feature x2', fontsize=16)\n",
    "plt.show()"
   ]
  },
  {
   "cell_type": "markdown",
   "metadata": {},
   "source": [
    "## Logistic Regression\n",
    "\n",
    "<img src=\"../../data/R3_Classification/Log_Reg2.png\" alt=\"Drawing\" style=\"width: 600px;\"/>\n",
    "\n",
    "\n",
    "Logistic regression is a classification algorithm that uses a linear\n",
    "\n",
    "With simplicity in mind, we present the theory of  logistic regression in the case of a binary classification problem.\n",
    "\n",
    "Logistic regression is a **probabilistic model** in the sense that we do not assume that the label $y$ of a data point is deterministically defined by the features $\\mathbf{x}$. Instead, we assume that the features $\\mathbf{x}$ are related to the probabilities of the data point having the different labels. Specifically, the fundamental assumption of (binary) logistic regression is that the log-odds of a data point $\\mathbf{x}$ having label $y=1$ are linearly related to the features of the data point:\n",
    "\n",
    "\n",
    "\\begin{equation}\n",
    "\\log \\frac{P(y=1)}{P(y=0)} = \\log \\frac{P(y=1)}{1-P(y=1)} = \\mathbf{w}^T \\mathbf{x} = \\sum_{i=1}^n w_i x_i.\n",
    "\\tag{3}\n",
    "\\end{equation}\n",
    "\n",
    "Here, $\\mathbf{w} = \\big(w_1, w_2, \\ldots, w_n \\big)^T$ is a weight vector that fully defines the linear relationship between the features and the log-odds. Hence, the logistic regression model is parametrized by $\\mathbf{w}$.\n",
    "\n",
    "Observe that $\\mathbf{w}^T\\mathbf{x} > 0$ when the data point is more likely to have the label $y=1$, and $\\mathbf{w}^T\\mathbf{x} < 0$ when it is more likely that the label $y=0$. It follows that given the weight vector $\\mathbf{w}$, the sign of the function $h^{(\\mathbf{w})}(\\mathbf{x}) = \\mathbf{w}^T \\mathbf{x}$ can be used to predict the label $y$ of data points. Thus, the **hypothesis space** of the logistic regression model is the set of functions of the form\n",
    "\n",
    "\\begin{equation}\n",
    " h^{(\\mathbf{w})}(\\mathbf{x}) = \\begin{cases} 1 & \\mbox{ for } \\mathbf{w}^T\\mathbf{x} \\geq 0 \\\\ 0 & \\mbox{ for } \\mathbf{w}^T\\mathbf{x} < 0 \\end{cases},\\; \\text{ where } \\mathbf{w} \\in \\mathbb{R}^n.\n",
    " \\tag{4}\n",
    "\\end{equation}\n",
    "\n",
    "Given the weight vector $\\mathbf{w}$, it is also relatively straightforward to calculate the estimated probabilities of the data point $\\mathbf{x}$ belonging to each class. To calculate the probability of the data point having the label $y=1$ we solve for $P(y=1)$ in equation (3) and obtain\n",
    "\n",
    "\\begin{equation}\n",
    "P(y=1|\\; \\mathbf{w}) = \\frac{1}{1 + \\exp(-\\mathbf{w}^T \\mathbf{x})}.\n",
    "\\end{equation}\n",
    "\n",
    "Since the label can only take the values 0 and 1, we obtain $P(y=0)$ as the probability of the complement of $P(y=1)$:\n",
    "\n",
    "\\begin{equation}\n",
    "P(y=0|\\; \\mathbf{w}) = 1 - P(y=1) = 1 - \\frac{1}{1 + \\exp(-\\mathbf{w}^T \\mathbf{x})} = \\frac{1}{1 + \\exp(\\mathbf{w}^T \\mathbf{x})}\n",
    "\\end{equation}.\n",
    "\n",
    "\n",
    "### Fitting a logistic regression model\n",
    "\n",
    "When fitting a classification model, the goal is to find the parametrization of the model that results in the best predictions on the training set on average, as measured by some **loss function**. In classification problems in which we wish to maximize the accuracy of the classifier, a seemingly natural choice of loss function is the 0-1 loss, which incurs a loss of 1 if the predicted does not match the true label of a data point and 0 otherwise. This is due to the fact that minimizing the average 0-1 loss on the training set is equivalent to maximizing the accuracy. However, the average 0-1 loss cannot be minimized efficiently and is thus unusable in many applications. Most classification models consequently use some alternative loss function to optimize the classifier with respect to the model parameters.\n",
    "\n",
    "In the case of logistic regression, the probabilistic nature of the model enables us to fit the model by **maximizing the likelihood** of observing the labels $\\mathbf{y}$ for the data points in the training set $\\mathbf{X}$. If we assume that the data points are independent, the joint likelihood of observing the labels in the label vector $\\mathbf{y}$ can be formulated as a product of the individual probabilities:\n",
    "\n",
    "\\begin{equation}\n",
    "    \\text{Prob}(\\mathbf{y}|\\mathbf{w}) = \\prod_{i=1}^m \\text{Prob}(y=y^{(i)}| \\mathbf{w}).\n",
    "\\end{equation}\n",
    "\n",
    "Here, the individual probabilities are calculated using formulas.\n",
    "\n",
    "\n",
    "\n",
    "In practice, the likelihood above is maximized with respect to $\\mathbf{w}$ by solving an equivalent minimization problem, in which we minimize the average **logistic loss**\n",
    "\n",
    "\\begin{equation}\n",
    "\\mathcal{E}(\\mathbf{w}) = (1/m) \\sum_{i=1}^{m}\\big[ -y^{(i)}\\ln\\big(\\sigma(\\mathbf{w}^{T}\\mathbf{x}^{(i)})\\big)-(1-y^{(i)})\\ln\\big(1-\\sigma(\\mathbf{w}^{T}\\mathbf{x}^{(i)})\\big) \\big]\n",
    "\\end{equation}\n",
    "\n",
    "with respect to $\\mathbf{w}$. Here, the **logistic loss** of a single data point $\\mathbf{x}^{(i)}$ with label $y^{(i)}$ is \n",
    "\n",
    "\\begin{equation}\n",
    "    \\mathcal{L}(\\mathbf{x}^{(i)},y^{(i)}) = -y^{(i)} \\ln \\big(\\sigma(\\mathbf{w}^{T}\\mathbf{x}^{(i)})\\big)-(1-y^{(i)})\\ln\\big(1-\\sigma(\\mathbf{w}^{T}\\mathbf{x}^{(i)})\\big).\n",
    "\\end{equation}\n",
    "\n",
    "It turns out that the average logistic loss is differentiable and convex and can thus be efficiently minimized using gradient based optimization algorithms, the principles of which are outside the scope of this course."
   ]
  },
  {
   "cell_type": "markdown",
   "metadata": {
    "nbgrader": {
     "grade": false,
     "grade_id": "cell-3f26e27d536e5c4f",
     "locked": true,
     "schema_version": 3,
     "solution": false,
     "task": false
    }
   },
   "source": [
    "<b><font size=4>Summary. Logistic Regression</font></b>\n",
    "\n",
    "* Linear functions can be used in classification task\n",
    "* One of the popular linear classifier is logistic regression\n",
    "* For linear predictor $h^{(\\mathbf{w})}(\\mathbf{x})= \\mathbf{w}^{T} \\mathbf{x}$, we can assign a class label based on the sign of  $h^{(\\mathbf{w})}(\\mathbf{x})$: if $h^{(\\mathbf{w})}(\\mathbf{x})$ > 0 the assigned class is 1 and if $h^{(\\mathbf{w})}(\\mathbf{x})$ < 0 the assigned class is 0.\n",
    "* We want to choose such a weight vector $\\mathbf{w}$ that maximizes the probability (or likelihood) of the labels belonging to a specific class\n",
    "* Maximazing this probability is similar to minimizing the logistic loss\n"
   ]
  },
  {
   "cell_type": "markdown",
   "metadata": {
    "nbgrader": {
     "grade": false,
     "grade_id": "cell-c7cdbcf0e4bd37f8",
     "locked": true,
     "schema_version": 3,
     "solution": false,
     "task": false
    }
   },
   "source": [
    "<img src=\"../../data/R3_Classification/logreg1.jpg\" alt=\"Drawing\" style=\"width: 500px;\"/>"
   ]
  },
  {
   "cell_type": "markdown",
   "metadata": {
    "nbgrader": {
     "grade": false,
     "grade_id": "cell-9ae08df3ffd3299d",
     "locked": true,
     "schema_version": 3,
     "solution": false
    }
   },
   "source": [
    "<a id='demoboundary'></a>\n",
    "<div class=\" alert alert-info\">\n",
    "    \n",
    "### Demo. Logistic Loss.\n",
    "\n",
    "The code snippet below plots the logistic loss \n",
    "\n",
    "\\begin{equation}\n",
    "\\mathcal{L}\\big((\\mathbf{x},y);\\mathbf{w}\\big) = -y\\ln\\big(\\sigma\\big( \\mathbf{w}^{T} \\mathbf{x} \\big)\\big)-(1-y)\\ln\\big(1-\\sigma\\big(\\mathbf{w}^{T}\\mathbf{x}\\big) \\big)\n",
    "\\end{equation}\n",
    "      \n",
    "as a function of the predictor value $h(\\mathbf{x}) = \\mathbf{w}^{T} \\mathbf{x}$. Recall that the value $\\mathbf{w}^{T} \\mathbf{x}$ gives the estimated log-odds of the true label $y$ being equal to $1$. Thus, large positive values of $\\mathbf{w}^T \\mathbf{x}$ represent a high degree of confidence in that $y=1$ and large negative values a high degree of confidence in that $y=0$.\n",
    "\n",
    "Observe that the shape of the loss function is different for data points with different labels, since only one of the terms in the logistic loss is non-zero depending on whether $y=1$ or $y=0$.\n",
    "</div>."
   ]
  },
  {
   "cell_type": "code",
   "execution_count": 8,
   "metadata": {
    "nbgrader": {
     "grade": false,
     "grade_id": "cell-75e9af43f11ba370",
     "locked": true,
     "schema_version": 3,
     "solution": false
    }
   },
   "outputs": [
    {
     "data": {
      "image/png": "[encoded data removed]",
      "text/plain": [
       "<Figure size 720x432 with 1 Axes>"
      ]
     },
     "metadata": {
      "needs_background": "light"
     },
     "output_type": "display_data"
    }
   ],
   "source": [
    "# Define sigmoid function according to formula (5)\n",
    "def sigmoid_func(x):\n",
    "    return 1/(1 + np.exp(-x))\n",
    "\n",
    "# Choose values (w^T*x) for calculating loss \n",
    "range_x = np.arange(-5 , 5 , 0.01)\n",
    "\n",
    "# Calculate logistic loss for y=1 and y=0\n",
    "logloss_y1 = -np.log(sigmoid_func(range_x))\n",
    "logloss_y0 = -np.log(1-sigmoid_func(range_x))\n",
    "\n",
    "# Set fontsizes for matplotlib\n",
    "plt.rc('legend', fontsize=16) \n",
    "plt.rc('axes', labelsize=16) \n",
    "plt.rc('xtick', labelsize=12) \n",
    "plt.rc('ytick', labelsize=12) \n",
    "     \n",
    "# Plot the results, using the plot function in matplotlib.pyplot.\n",
    "fig, axes = plt.subplots(1, 1, figsize=(10, 6)) \n",
    "axes.plot(range_x, logloss_y1, linestyle=':', label=r'$y=1$', linewidth=3.0)\n",
    "axes.plot(range_x, logloss_y0, label=r'$y=0$', linewidth=2.0)\n",
    "\n",
    "# Set axis labels and title\n",
    "axes.set_xlabel(r'$\\mathbf{w}^{T}\\mathbf{x}$')\n",
    "axes.set_ylabel(r'$\\mathcal{L}((y,\\mathbf{x});\\mathbf{w})$')\n",
    "axes.set_title(\"logistic loss\", fontsize=20)\n",
    "axes.legend()\n",
    "plt.show()"
   ]
  },
  {
   "cell_type": "markdown",
   "metadata": {
    "nbgrader": {
     "grade": false,
     "grade_id": "cell-2e9a1e2bdd68d5a2",
     "locked": true,
     "schema_version": 3,
     "solution": false
    }
   },
   "source": [
    "<a id='demoboundary'></a>\n",
    "<div class=\" alert alert-warning\">\n",
    "<b>Student Task.</b> Logistic vs. Squared Error Loss.\n",
    "    \n",
    "Extend the demo above by adding the squared error loss $(y-\\mathbf{w}^{T}\\mathbf{x})^{2}$ for cases $y=1$. Store the values of the loss function for various values of $\\mathbf{w}^{T} \\mathbf{x}$ in the numpy array `squaredloss_y1`. These numpy array should have the same shape as the numpy array `range_x` which is already created in the code snippet below. \n",
    "\n",
    "</div>"
   ]
  },
  {
   "cell_type": "code",
   "execution_count": 9,
   "metadata": {
    "nbgrader": {
     "grade": false,
     "grade_id": "cell-22fedfdf6e7061dc",
     "locked": false,
     "schema_version": 3,
     "solution": true
    }
   },
   "outputs": [
    {
     "data": {
      "image/png": "[encoded data removed]",
      "text/plain": [
       "<Figure size 720x432 with 1 Axes>"
      ]
     },
     "metadata": {
      "needs_background": "light"
     },
     "output_type": "display_data"
    }
   ],
   "source": [
    "# define sigmoid function according to formula (5)\n",
    "def sigmoid_func(x):\n",
    "    return 1/(1 + np.exp(-x))\n",
    "\n",
    "# Choose values (w^T*x) for calculating loss \n",
    "range_x = np.arange(-2 , 4 , 0.01)\n",
    "\n",
    "# Calculate logistic loss for y=1\n",
    "logloss_y1 = -np.log(sigmoid_func(range_x))\n",
    "\n",
    "### STUDENT TASK ###\n",
    "# squaredloss_y1 = ...\n",
    "### BEGIN SOLUTION\n",
    "squaredloss_y1 = (1-range_x)**2 \n",
    "### END SOLUTION\n",
    "\n",
    "# Font sizes for matplotlib\n",
    "plt.rc('legend', fontsize=12) \n",
    "plt.rc('axes', labelsize=16) \n",
    "plt.rc('xtick', labelsize=12) \n",
    "plt.rc('ytick', labelsize=12) \n",
    "\n",
    "# Plot the results\n",
    "# IMPORTANT!: Please don't change below code for plotting, else the tests will fail and you will lose points\n",
    "fig, axes = plt.subplots(1, 1, figsize=(10, 6))\n",
    "axes.plot(range_x, logloss_y1, linestyle=':', label=r'logistic loss $y=1$', linewidth=3.0)\n",
    "axes.plot(range_x, squaredloss_y1/2, label=r'squared error for $y=1$', linewidth=2.0)\n",
    "\n",
    "# Set axes label and legend\n",
    "axes.set_xlabel(r'$\\mathbf{w}^{T}\\mathbf{x}$')\n",
    "axes.set_ylabel(r'$\\mathcal{L}((y,\\mathbf{x});\\mathbf{w})$')\n",
    "axes.legend()\n",
    "plt.show()"
   ]
  },
  {
   "cell_type": "markdown",
   "metadata": {
    "nbgrader": {
     "grade": false,
     "grade_id": "cell-02571ba51c2e57d6",
     "locked": true,
     "schema_version": 3,
     "solution": false,
     "task": false
    }
   },
   "source": [
    "We can see that logistic loss for y=1 (true label) decreasing with  $\\mathbf{w}^{T}\\mathbf{x}$ getting larger.\n",
    "\n",
    "In contrast, squared error loss increasing when the $\\mathbf{w}^{T}\\mathbf{x}$ is far from 1 (true label). Therefore, squared error loss for the datapoints which are $\\mathbf{w}^{T}\\mathbf{x}$>0, but far from true label (in this case y=1) will be large, which is bad loss function for assessing the quality of a predictor $h^{(\\mathbf{w})}(\\mathbf{x})$\n",
    "\n",
    "\\begin{equation}\n",
    "\\hat{y} = \\begin{cases} 1 & \\mbox{ for } h^{(\\mathbf{w})}(\\mathbf{x}) \\geq 0 \\\\ 0 & \\mbox{ for } h^{(\\mathbf{w})}(\\mathbf{x}) < 0. \\end{cases}\n",
    "\\end{equation} \n"
   ]
  },
  {
   "cell_type": "code",
   "execution_count": 10,
   "metadata": {
    "nbgrader": {
     "grade": true,
     "grade_id": "cell-7edf2b5d6d7d517e",
     "locked": true,
     "points": 1,
     "schema_version": 3,
     "solution": false
    }
   },
   "outputs": [
    {
     "name": "stdout",
     "output_type": "stream",
     "text": [
      "First entry of squaredloss_y1: 9.0\n",
      "Last entry of squaredloss_y1: 8.940100000000033\n",
      "Sanity check tests passed!\n"
     ]
    },
    {
     "ename": "ModuleNotFoundError",
     "evalue": "No module named 'plotchecker'",
     "output_type": "error",
     "traceback": [
      "\u001b[1;31m---------------------------------------------------------------------------\u001b[0m",
      "\u001b[1;31mModuleNotFoundError\u001b[0m                       Traceback (most recent call last)",
      "\u001b[1;32m<ipython-input-10-eb80fa8f9bea>\u001b[0m in \u001b[0;36m<module>\u001b[1;34m\u001b[0m\n\u001b[0;32m      7\u001b[0m \u001b[1;33m\u001b[0m\u001b[0m\n\u001b[0;32m      8\u001b[0m \u001b[1;31m### BEGIN HIDDEN TESTS\u001b[0m\u001b[1;33m\u001b[0m\u001b[1;33m\u001b[0m\u001b[1;33m\u001b[0m\u001b[0m\n\u001b[1;32m----> 9\u001b[1;33m \u001b[1;32mfrom\u001b[0m \u001b[0mplotchecker\u001b[0m \u001b[1;32mimport\u001b[0m \u001b[0mLinePlotChecker\u001b[0m\u001b[1;33m\u001b[0m\u001b[1;33m\u001b[0m\u001b[0m\n\u001b[0m\u001b[0;32m     10\u001b[0m \u001b[0mpc\u001b[0m \u001b[1;33m=\u001b[0m \u001b[0mLinePlotChecker\u001b[0m\u001b[1;33m(\u001b[0m\u001b[0maxes\u001b[0m\u001b[1;33m)\u001b[0m\u001b[1;33m\u001b[0m\u001b[1;33m\u001b[0m\u001b[0m\n\u001b[0;32m     11\u001b[0m \u001b[0mtest_squaredloss_y1\u001b[0m \u001b[1;33m=\u001b[0m \u001b[1;33m(\u001b[0m\u001b[0mrange_x\u001b[0m\u001b[1;33m-\u001b[0m\u001b[1;36m1\u001b[0m\u001b[1;33m)\u001b[0m\u001b[1;33m**\u001b[0m\u001b[1;36m2\u001b[0m\u001b[1;33m\u001b[0m\u001b[1;33m\u001b[0m\u001b[0m\n",
      "\u001b[1;31mModuleNotFoundError\u001b[0m: No module named 'plotchecker'"
     ]
    }
   ],
   "source": [
    "# Perform some sanity checks on the outputs\n",
    "print(f\"First entry of squaredloss_y1: {squaredloss_y1[0]}\")\n",
    "print(f\"Last entry of squaredloss_y1: {squaredloss_y1[-1]}\")\n",
    "np.testing.assert_allclose(squaredloss_y1[0], 9.0, atol=1e-2, err_msg=\"First entry of squaredloss_y1 should be equal to approximately 9.0\")\n",
    "np.testing.assert_allclose(squaredloss_y1[-1], 8.94, atol=1e-2, err_msg=\"Last entry of squaredloss_y1 should be equal to approximately 8.94\")\n",
    "print('Sanity check tests passed!')\n",
    "\n",
    "### BEGIN HIDDEN TESTS\n",
    "from plotchecker import LinePlotChecker\n",
    "pc = LinePlotChecker(axes)\n",
    "test_squaredloss_y1 = (range_x-1)**2   \n",
    "np.testing.assert_array_equal(pc.y_data[1].reshape(-1,1), squaredloss_y1.reshape(-1,1)/2, \"The squaredloss_y1 values for the plot are incorrect\")\n",
    "### END HIDDEN TESTS"
   ]
  },
  {
   "cell_type": "markdown",
   "metadata": {
    "nbgrader": {
     "grade": false,
     "grade_id": "cell-4e550d3a580bea73",
     "locked": true,
     "schema_version": 3,
     "solution": false
    }
   },
   "source": [
    "<a id='logisticregression'></a>\n",
    "<div class=\" alert alert-warning\">\n",
    "<b>Student Task.</b> Logistic Regression. \n",
    "\n",
    "In this task, you will use the `LogisticRegression` class in scikit-learn to fit a logistic regression model on the data `X, y` and use this model to predict the labels of the data points in `X`.\n",
    "    \n",
    "This is done by performing the following steps:\n",
    "\n",
    "* Initialize the logistic regression model with `LogisticRegression(random_state=0, C=1e6)`. Refer to [documentation](https://scikit-learn.org/stable/modules/generated/sklearn.linear_model.LogisticRegression.html).\n",
    "    \n",
    "    \n",
    "* Fit the logistic regression model on the data `X, y` using the function [`LogisticRegression.fit(X, y)`](https://scikit-learn.org/stable/modules/generated/sklearn.linear_model.LogisticRegression.html#sklearn.linear_model.LogisticRegression.fit).\n",
    "    \n",
    "    \n",
    "* Finally, predict the labels for the image data using the function [`LogisticRegression.predict()`](https://scikit-learn.org/stable/modules/generated/sklearn.linear_model.LogisticRegression.html#sklearn.linear_model.LogisticRegression.predict) which uses as input the feature matrix $\\mathbf{X} \\in \\mathbb{R}^{m \\times n}$. The obtained predicted labels should be stored in the variable `y_pred` as an `ndarray` of shape `(m,)`.    \n",
    "</div>"
   ]
  },
  {
   "cell_type": "code",
   "execution_count": 11,
   "metadata": {
    "nbgrader": {
     "grade": false,
     "grade_id": "cell-c2e7b88452b27df0",
     "locked": false,
     "schema_version": 3,
     "solution": true
    }
   },
   "outputs": [],
   "source": [
    "from sklearn.linear_model import LogisticRegression\n",
    "\n",
    "# Load the features and labels\n",
    "X = feature_matrix()\n",
    "y = labels() \n",
    "\n",
    "### BEGIN STUDENT TASK ###\n",
    "# log_reg = ...\n",
    "# log_reg.xxx(...)\n",
    "# y_pred = ...\n",
    "### BEGIN SOLUTION\n",
    "log_reg = LogisticRegression(random_state=0, C=1e6)\n",
    "log_reg = log_reg.fit(X, y)\n",
    "y_pred = log_reg.predict(X)\n",
    "### END SOLUTION"
   ]
  },
  {
   "cell_type": "code",
   "execution_count": 12,
   "metadata": {
    "nbgrader": {
     "grade": true,
     "grade_id": "cell-510a06d027433f2c",
     "locked": true,
     "points": 3,
     "schema_version": 3,
     "solution": false
    }
   },
   "outputs": [
    {
     "name": "stdout",
     "output_type": "stream",
     "text": [
      "Sanity check tests passed!\n"
     ]
    }
   ],
   "source": [
    "# Perform some sanity checks on the results\n",
    "assert y_pred.shape == (178,), \"y_pred has wrong dimensions.\"\n",
    "print('Sanity check tests passed!')\n",
    "\n",
    "### BEGIN HIDDEN TESTS\n",
    "t_logReg = LogisticRegression(random_state=0, C=1e6)\n",
    "t_logReg.fit(X, y)\n",
    "t_y_pred = t_logReg.predict(X)\n",
    "\n",
    "np.testing.assert_allclose(t_y_pred, y_pred, atol=0.5)\n",
    "### END HIDDEN TESTS"
   ]
  },
  {
   "cell_type": "markdown",
   "metadata": {},
   "source": [
    "### Decision Boundary of Logistic Regression \n",
    "\n",
    "After we have fitted the logistic regression model and found the optimal model parameters $\\mathbf{w}_{\\rm opt}$, we can predict the label of any new image with the feature vector $\\mathbf{x} \\in \\mathbb{R}^n$ by using the predictor function\n",
    "\n",
    "\\begin{equation}\n",
    "    \\hat{y} = \\begin{cases} 1 & \\mbox{ for } \\mathbf{w}_{\\rm opt}^T \\mathbf{x} \\geq 0 \\\\ 0 & \\mbox{ for } \\mathbf{w}_{\\rm opt}^T \\mathbf{x} < 0 \\end{cases}.\n",
    "\\end{equation}\n",
    "\n",
    "The inequality $\\mathbf{w}_{\\rm opt}^T \\mathbf{x} \\geq 0$ defines a closed half-space in $\\mathbb{R}^n$, and the inequality $\\mathbf{w}_{\\rm opt}^T \\mathbf{x} < 0$ defines respectively an open half-space. These are separated by the hyperplane $\\mathbf{w}_{\\rm opt}^T \\mathbf{x} = 0$ that is called the **decision boundary** of the logistic regression classifier. By recalling that $\\mathbf{w}_{\\rm opt}^T \\mathbf{x}$ predicts the log-odds of the event $y=1$ in the logistic regression model, the decision boundary is naturally interpreted as the hyperplane on which the predicted odds for the labels are 1:1 - i.e. both labels are equally likely.\n",
    "\n",
    "In two-dimensional space (e.g. in $\\mathbb{R}^2$) the decision boundary is a line, whereas it is a plane in three-dimensional space. In higher dimensional space the hyperplane does not have an intuitive interpretation, but nevertheless divides the entire space into two half-spaces.\n",
    "\n",
    "Keeping the log-odds in mind,"
   ]
  },
  {
   "cell_type": "markdown",
   "metadata": {
    "nbgrader": {
     "grade": false,
     "grade_id": "cell-a3956e310092c75b",
     "locked": true,
     "schema_version": 3,
     "solution": false
    }
   },
   "source": [
    "### Decision Boundary of Logistic Regression \n",
    "\n",
    "After we have fitted the logistic regression model and found the optimal model parameters $\\mathbf{w}_{\\rm opt}$, we can classify any new image according to $\\hat{y}=1$ if $h(\\mathbf{x}) = \\mathbf{w}_{\\rm opt}^{T} \\mathbf{x} > 0$ and $\\hat{y}=0$ otherwise.\n",
    "\n",
    "After we have learnt the predictor function, or its weight $\\widehat{\\mathbf{w}}$, we can classify any new image according to $\\hat{y}=1$ if $h(\\mathbf{x}) = \\widehat{\\mathbf{w}}^{T} \\mathbf{x} > 0$ and $\\hat{y}=0$ otherwise. Thus, our classifier divides all image-samples into two halfspaces of $\\mathbb{R}^{2}$ (since we are only using two features to characterize an image). \n",
    "\n",
    "The image-samples which are classified as $\\hat{y} =1$ belong to the halfspace $\\{ \\mathbf{x}: \\hat{\\mathbf{w}}^{T} \\mathbf{x} > 0 \\}$, while all the images which are classified as $\\hat{y} = 0$ belong to the half-space $\\{ \\mathbf{x}: \\hat{\\mathbf{w}}^{T} \\mathbf{x} < 0 \\}$. These two half-spaces are separated by the decision boundary $\\{ \\mathbf{x}: \\hat{\\mathbf{w}}^{T} \\mathbf{x} =0\\}$. \n",
    "\n",
    "For most training data, the decision boundary determined by logistic regression will not perfectly separate the training data points according to $y^{(i)}=1$ and $y^{(i)}=0$. Thus, we typically have training samples with the same true label but which are located at oposite sides of the decision boundary. However, the decision boundary will be chosen such that on each side one class dominates. \n",
    "\n",
    "The decision boundary provides also a geometric interpretation of the magnitude $|\\widehat{\\mathbf{w}}^{T} \\mathbf{x}|$ as the normal distance of a data point with features $\\mathbf{x}$ to the decision boundary. Thus, the larger $|\\widehat{\\mathbf{w}}^{T} \\mathbf{x}|$, the farther away is the data point from the decision boundary and, in turn, the more reliable is the predicted label $\\hat{y}$ for this data point. On the other hand, if $|\\widehat{\\mathbf{w}}^{T} \\mathbf{x}| \\approx 0$, then the data point with features $\\mathbf{x}$ is close to the decision boundary, i.e., it is a border case which cannot be classified reliably.\n"
   ]
  },
  {
   "cell_type": "markdown",
   "metadata": {
    "nbgrader": {
     "grade": false,
     "grade_id": "cell-72420c22ddf65bb7",
     "locked": true,
     "schema_version": 3,
     "solution": false
    }
   },
   "source": [
    "<a id='demoboundary'></a>\n",
    "<div class=\" alert alert-info\">\n",
    "    \n",
    "### Demo. Linear Decision Boundary.\n",
    "\n",
    "In the code snippet below, we train a logistic regression model using only the first two features $x_{1}$ and $x_{2}$ of the images in the dataset. We then create two scatterplots containing the true and predicted labels respectively, as well as the decision boundary of the logistic regression classifier.\n",
    "    \n",
    "We can observe from the figure that while the decision boundary does not perfectly separate the data points with different true labels, the predicted labels are different on each side of the decision boundary, which is to be expected since the model effectively uses the boundary to predict the labels. \n",
    "</div>"
   ]
  },
  {
   "cell_type": "code",
   "execution_count": 13,
   "metadata": {
    "nbgrader": {
     "grade": false,
     "grade_id": "cell-999d7b972b0c0540",
     "locked": true,
     "schema_version": 3,
     "solution": false
    }
   },
   "outputs": [
    {
     "name": "stdout",
     "output_type": "stream",
     "text": [
      "Accuracy of classification: 85.96%\n"
     ]
    },
    {
     "data": {
      "image/png": "[encoded data removed]",
      "text/plain": [
       "<Figure size 576x864 with 2 Axes>"
      ]
     },
     "metadata": {
      "needs_background": "light"
     },
     "output_type": "display_data"
    }
   ],
   "source": [
    "# Load the features and labels\n",
    "X = feature_matrix()\n",
    "y = labels() \n",
    "\n",
    "# Use only the first two features\n",
    "X = X[:,:2]  \n",
    "\n",
    "# Create an instance of Logistic Regression Classifier and fit the data.\n",
    "log_reg = LogisticRegression(C=1e6, random_state=0)\n",
    "log_reg.fit(X, y)\n",
    "\n",
    "# Get the weights of the fitted model\n",
    "w = log_reg.coef_ \n",
    "w = w.reshape(-1)\n",
    "\n",
    "# Get the predicted labels for X\n",
    "y_pred = log_reg.predict(X)\n",
    "\n",
    "# Calculate the accuracy of the predictions\n",
    "accuracy = metrics.accuracy_score(y, y_pred)\n",
    "print(f\"Accuracy of classification: {round(100*accuracy, 2)}%\")\n",
    "\n",
    "# Minimum and maximum values of features x1 and x2\n",
    "x1_min, x2_min = np.min(X, axis=0)\n",
    "x1_max, x2_max = np.max(X, axis=0)\n",
    "\n",
    "# Plot the decision boundary h(x) = 0\n",
    "# for data with 2 features this means w1x1 + w2x2 + bias = 0 --> x2 = (-1/w2)*(w1x1+bias)\n",
    "x_grid = np.linspace(x1_min, x1_max, 100)\n",
    "y_boundary = (-1/w[1])*(x_grid*w[0] + log_reg.intercept_)\n",
    "\n",
    "options = [(\"Decision boundary and true labels\", y), \n",
    "           (\"Decision boundary and predicted labels\", y_pred)]\n",
    "\n",
    "fig, axes = plt.subplots(2, 1, figsize=(8, 12))\n",
    "\n",
    "for i, (title, lab) in enumerate(options):   \n",
    "    idx_1 = np.where(lab == 1)[0] # index of each class 0 image.\n",
    "    idx_2 = np.where(lab == 0)[0] # index of each not class 0 image.\n",
    "    axes[i].scatter(X[idx_1, 0], X[idx_1, 1], marker='x', s=50, label=r'$c^{(i)}=0$')\n",
    "    axes[i].scatter(X[idx_2, 0], X[idx_2, 1], marker='o', s=50, label=r'$c^{(i)} \\in \\{1,2\\}$')\n",
    "    axes[i].plot(x_grid, y_boundary, color='green', label=\"Decision boundary\")\n",
    "    axes[i].set_xlabel(r'$x_{1}$')\n",
    "    axes[i].set_ylabel(r'$x_{2}$')\n",
    "    axes[i].set_title(title, fontsize=16)\n",
    "    axes[i].set_xlim(x1_min-.5, x1_max+.5)\n",
    "    axes[i].set_ylim(x2_min-1, x2_max+1)\n",
    "    axes[i].legend()\n",
    "plt.show()"
   ]
  },
  {
   "cell_type": "markdown",
   "metadata": {
    "nbgrader": {
     "grade": false,
     "grade_id": "cell-14d4b1ed797dc0ad",
     "locked": true,
     "schema_version": 3,
     "solution": false,
     "task": false
    }
   },
   "source": [
    "<a id='Bonus C'></a>\n",
    "<div class=\" alert alert-warning\">\n",
    "    <b>Bonus Task.</b> Regularization parameter C in Logistic Regression. \n",
    "    \n",
    "Bonus task worth of 50 points.\n",
    "    \n",
    "Explain what regularization parameter C does in scikit-learn LogisticRegression and how to choose appropriate C. Please send your answer to Alex or the course assistants via e-mail or on Slack!\n",
    "</div> "
   ]
  },
  {
   "cell_type": "markdown",
   "metadata": {
    "nbgrader": {
     "grade": false,
     "grade_id": "cell-c57cc077bea09f6e",
     "locked": true,
     "schema_version": 3,
     "solution": false,
     "task": false
    }
   },
   "source": [
    "### Accuracy - How well did we do?\n",
    "After we have computed the optimal weight $\\widehat{\\mathbf{w}}$ using logistic regression, we can calculate the accuracy of the resulting classifier as the fraction of correctly labeled images (for which $y^{(i)} = \\hat{y}^{(i)}$):\n",
    "\n",
    "\\begin{equation*}\n",
    "    \\text{Accuracy} =\\dfrac{1}{m} \\sum_{i=1}^{m} \\mathcal{I}(\\hat{y}^{(i)} = y^{(i)})\n",
    "    \\label{acc}\n",
    "    \\tag{7}\n",
    "\\end{equation*}\n",
    "\n",
    "Here $\\mathcal{I}(\\hat{y}^{(i)} = y^{(i)})$ denotes the indicator function which is equal to one if $\\hat{y}^{(i)} = y^{(i)}$ and equal to zero otherwise. "
   ]
  },
  {
   "cell_type": "markdown",
   "metadata": {
    "nbgrader": {
     "grade": false,
     "grade_id": "cell-c26db4492eed8d77",
     "locked": true,
     "schema_version": 3,
     "solution": false
    }
   },
   "source": [
    "<a id='logregaccuracy'></a>\n",
    "<div class=\" alert alert-warning\">\n",
    "<b>Student Task.</b> Compute Accuracy. \n",
    " \n",
    "Implement a Python function `calculate_accuracy(y, y_hat)` that takes as input a vector $\\mathbf{y}=\\big(y^{(1)},\\ldots,y^{(m)}\\big)^{T}$ of true labels and another vector $\\mathbf{\\hat{y}}=\\big(\\hat{y}^{(1)},\\ldots,\\hat{y}^{(m)}\\big)^{T}$ containing predicted labels.\n",
    "The function should return the classification accuracy defined above as a **percentage**. Thus, if all samples are classified correctly, the returned value should be $100$.\n",
    "</div>"
   ]
  },
  {
   "cell_type": "code",
   "execution_count": 14,
   "metadata": {
    "nbgrader": {
     "grade": false,
     "grade_id": "cell-3b89e9bd39367cc1",
     "locked": false,
     "schema_version": 3,
     "solution": true
    }
   },
   "outputs": [],
   "source": [
    "def calculate_accuracy(y, y_hat):\n",
    "    ### STUDENT TASK ###\n",
    "    # accuracy = ...\n",
    "    ### BEGIN SOLUTION\n",
    "    correct = y == y_hat   \n",
    "    accuracy = np.mean(correct) * 100\n",
    "    ### END SOLUTION\n",
    "    return accuracy"
   ]
  },
  {
   "cell_type": "code",
   "execution_count": 15,
   "metadata": {
    "nbgrader": {
     "grade": true,
     "grade_id": "cell-62f57c5e32ee62b6",
     "locked": true,
     "points": 3,
     "schema_version": 3,
     "solution": false
    }
   },
   "outputs": [
    {
     "name": "stdout",
     "output_type": "stream",
     "text": [
      "Accuracy of the result is: 98.87640449438202\n",
      "Sanity check tests passed!\n"
     ]
    }
   ],
   "source": [
    "# Get data and select 10 features to be used for prediction\n",
    "X = feature_matrix()\n",
    "X = X[:,:10]\n",
    "y = labels()\n",
    "\n",
    "# Train logistic regression model and get predicted labels\n",
    "log_reg = LogisticRegression(random_state=0)\n",
    "log_reg = log_reg.fit(X, y)\n",
    "y_pred = log_reg.predict(X)\n",
    "            \n",
    "# Perform some sanity checks on the outputs\n",
    "test_acc = calculate_accuracy(y, y_pred)\n",
    "print (f'Accuracy of the result is: {test_acc}')\n",
    "assert 80 < test_acc < 100, \"Your accuracy should be above 80% and less than 100%\"\n",
    "assert test_acc < 99, \"Your accuracy was too good. You are probably not using correct methods.\"\n",
    "print('Sanity check tests passed!')\n",
    "\n",
    "### BEGIN HIDDEN TESTS\n",
    "np.testing.assert_allclose(calculate_accuracy(y, y_pred), 98.88, atol=0.1)\n",
    "### END HIDDEN TESTS"
   ]
  },
  {
   "cell_type": "markdown",
   "metadata": {
    "nbgrader": {
     "grade": false,
     "grade_id": "cell-7ffafb13858edab3",
     "locked": true,
     "schema_version": 3,
     "solution": false
    }
   },
   "source": [
    "## Multiclass Classification\n",
    "\n",
    "So far, we have considered the problem of classifying an image as $y=1$ if it belongs to \"class 0\" and as $y=0$ if not, i.e., if it belongs to \"class 1\" or \"class 2\". We have solved this binary classification problem using logistic regression. However, our ultimate goal is to classify an image according to all three categories of the images. \n",
    "\n",
    "There is a simple but useful trick for **upgrading** any binary classification method to handle more than two different label values or classes. The idea behind this trick which is known as **one vs. rest** is quite simple: just split the multiclass classification problem into several subproblems, each subproblem being one binary classification problem. We then apply a binary classification method (such as logistic regression) to each of the subproblems and combine their results to obtain a predicted label for the multiclass problem. \n",
    "\n",
    "For the image classification problem, using the three classes \"0\", \"1\" or \"2\", we obtain the following binary classification subproblems: \n",
    "\n",
    "- subproblem 0: classify samples into \"Class 0\" $(y=1)$ vs. \"not Class 0\" $(y=0)$  \n",
    "- subproblem 1: classify samples into \"Class 1\" $(y=1)$ vs. \"not Class 1\" $(y=0)$  \n",
    "- subproblem 2: classify samples into \"Class 2\" $(y=1)$ vs. \"not Class 2\" $(y=0)$\n",
    "\n",
    "Each subproblem amounts to testing if the image belongs to a particular class or not. The $k$th subproblem can be solved using logistic regression yielding a predictor $h^{(\\mathbf{w}_{k})}(\\mathbf{x})= (\\mathbf{w}_{k})^{T} \\mathbf{x}$. The predictor $h^{(\\mathbf{w}_{k})}(\\mathbf{x})= (\\mathbf{w}_{k})^{T} \\mathbf{x}$ indicates how likely the image belongs to the class $k$. We then assign the image to the class $k$ for which $h^{(\\mathbf{w}_{k})}(\\mathbf{x})$ is largest. \n",
    "\n",
    "### Example\n",
    "\n",
    "Assume we want to classify a new data point (which is different from the $m$ data points in our dataset). To this end, we compute the feature vector $\\mathbf{x}=(x_{1},x_{2},...,x_{13})^{T}$ of this new data point and apply the three subproblem predictors, yielding the following prediction values: \n",
    "\n",
    "* subproblem 0: $h^{(\\mathbf{w}_{0})}(\\mathbf{x}) = 0.1$ (\"Class 0 vs. not Class 0\")\n",
    "* subproblem 1: $h^{(\\mathbf{w}_{1})}(\\mathbf{x}) = 0.4$ (\"Class 1 vs. not Class 1\") \n",
    "* subproblem 2: $h^{(\\mathbf{w}_{2})}(\\mathbf{x}) = 0.8$ (\"Class 2 vs. not Class 2\")\n",
    "\n",
    "From these results, we can see that the predictor $h^{(\\mathbf{w}^{(\\rm Class 2)})}(x)$ for subproblem 3 (`Class 2` vs. `not Class 2`) yields the highest confidence. Hence, we classify this new data point as `Class 2`. \n",
    "\n",
    "<img src=\"../../../coursedata/R3_Classification/Regression_Zebra.png\" alt=\"Drawing\" style=\"width: 400px;\"/>\n"
   ]
  },
  {
   "cell_type": "markdown",
   "metadata": {
    "nbgrader": {
     "grade": false,
     "grade_id": "cell-07f770c2370f39a3",
     "locked": true,
     "schema_version": 3,
     "solution": false
    }
   },
   "source": [
    "<a id='demoboundary'></a>\n",
    "<div class=\" alert alert-info\">\n",
    "    \n",
    "### Demo. Multiclass Classification.\n",
    "\n",
    "The code snippet below illustrates how multiclass classification via logistic regression can be applied using `scikit-learn`. By defining the parameter `multi_class='ovr'` when initializing the `LogisticRegression` model, we make the logistic regression model use the one vs rest scheme described above to perform multi-class classification.\n",
    "\n",
    "Note also that we use the function `LogisticRegression.predict_proba(X)` to obtain the predicted probabilities of the data points having each label. The function returns the probabilities in an array of shape `(m, n_labels)`, where `m` is the number of data points and `n_labels` the number of labels in the classification problem. That is, the $i$:th row of the array contains the predicted probabilities of the $i$:th data point having each label.\n",
    "\n",
    "</div>\n",
    "\n"
   ]
  },
  {
   "cell_type": "code",
   "execution_count": 16,
   "metadata": {
    "nbgrader": {
     "grade": false,
     "grade_id": "cell-68c53dcd4442a408",
     "locked": true,
     "schema_version": 3,
     "solution": false
    }
   },
   "outputs": [
    {
     "name": "stdout",
     "output_type": "stream",
     "text": [
      "Labels: {0, 1, 2}\n",
      "Predicted probability of each label for first data point: [0.99046541 0.00310708 0.00642751]\n",
      "Predicted label for first data point: 0\n",
      "True label for first data point: 0\n"
     ]
    }
   ],
   "source": [
    "# Load features and choose the first 8 features\n",
    "X = feature_matrix()\n",
    "X = X[:,:8]\n",
    "\n",
    "# Load labels. This time, keep all classes as is (0,1,2)\n",
    "y = pd.read_csv(\"../../data/R3_Classification/image_labels.csv\", header=None).to_numpy()\n",
    "y = y.reshape(-1)\n",
    "\n",
    "# Fit logistic regression model\n",
    "log_reg = LogisticRegression(random_state=0, multi_class=\"ovr\") # set multi_class to one versus rest ('ovr')\n",
    "log_reg = log_reg.fit(X, y)\n",
    "\n",
    "# Predict labels and probabilities\n",
    "y_pred = log_reg.predict(X)\n",
    "pred_probabilities = log_reg.predict_proba(X)\n",
    "\n",
    "print(f\"Labels: {set(y_pred)}\")\n",
    "print(f\"Predicted probability of each label for first data point: {pred_probabilities[0]}\")\n",
    "print(f\"Predicted label for first data point: {y_pred[0]}\")\n",
    "print(f\"True label for first data point: {y[0]}\")"
   ]
  },
  {
   "cell_type": "markdown",
   "metadata": {
    "nbgrader": {
     "grade": false,
     "grade_id": "cell-bd7b40d03f750e19",
     "locked": true,
     "schema_version": 3,
     "solution": false
    }
   },
   "source": [
    "### Confusion Matrix\n",
    "\n",
    "Computing the accuracy as the fraction of correctly classified data points for which $\\hat{y}^{(i)}=y^{(i)}$ is only one possible way to check how well you did. In some applications the accuracy is not very useful as a quality measure. In particular, for applications where the different classes occur with significantly different frequency (\"imbalanced data\"). A more fine-grained assessment of a classification method is provided by computing a confusion matrix. \n",
    "\n",
    "A [**confusion matrix**](https://en.wikipedia.org/wiki/Confusion_matrix) is a matrix of shape `(n_labels, n_labels)`, in which the value of the element in row $i$ and column $j$ represents the number of data points with the true label corresponding to index $i$ that are predicted by the classifier as having the label corresponding to index $j$. As such, the elements along the diagonal ($i=j$) show the amount of correctly classified data points for each label.\n",
    "\n",
    "By using a confusion matrix, it is possible to analyze the performance of the classifier for each possible value of the true label. For example, one might discover that the classifier performs particularly well or poorly on some specific classes.\n",
    "\n",
    "It is often convenient to calculate a so called **normalized confusion matrix** instead of the standard one. In the normalized confusion matrix, the element in the $i$:th row and $j$:th column contains the proportion of data points with true label corresponding to $i$ that are classified as having the label corresponding to $j$. The rows of this matrix sum up to 1. The normalization makes it easier to compare the performance of the classifier with respect to the different true labels when the true labels occur with different frequencies."
   ]
  },
  {
   "cell_type": "markdown",
   "metadata": {
    "nbgrader": {
     "grade": false,
     "grade_id": "cell-2ca0ad43155b3cf7",
     "locked": true,
     "schema_version": 3,
     "solution": false
    }
   },
   "source": [
    "<a id='logregconf'></a>\n",
    "<div class=\" alert alert-info\">\n",
    "    \n",
    "### Demo. Confusion Matrix. \n",
    "\n",
    "The confusion matrix is commonly visualized as an `n_labels x n_labels` grid of cells, where the colors of the cells are related to the number/proportion of datapoints in the corresponding element in the confusion matrix. This greatly enhances the readability of the confusion matrix, especially in cases where the number of labels (and the size of the matrix) is large.\n",
    "    \n",
    "In scikit-learn, a confusion matrix can be visualized using the function [`sklearn.metrics.plot_confusion_matrix`](https://scikit-learn.org/stable/modules/generated/sklearn.metrics.plot_confusion_matrix.html#sklearn-metrics-plot-confusion-matrix). The required inputs to the function are a fitted classifier, the feature matrix `X`, and the label vector `y`. In addition, the one can define other parameters for the function that control the appearance and type of the plotted confusion matrix. The function returns object `display`, where confusion matrix can be accessed with `display.confusion_matrix`. \n",
    "    \n",
    "In the code snippet below, we use the `plot_confusion_matrix()` function to plot both a standard and normalized confusion matrix based on the data `X, y` for the multi-class Logistic regression classifier trained in the previous demo. In addition to the required input parameters, we pass the desired class names for the confusion matrix in the parameter `display_labels`, the desired color map in the parameter `cmap`, as well as the `axes` object we wish to plot the confusion matrix on in the parameter `ax`. Furthermore, we pass a value in the parameter `normalize` which indicates whether or not the confusion matrix should be normalized or not.\n",
    "    \n",
    "</div> "
   ]
  },
  {
   "cell_type": "code",
   "execution_count": 17,
   "metadata": {},
   "outputs": [
    {
     "name": "stdout",
     "output_type": "stream",
     "text": [
      "Confusion matrix:\n",
      "[[59  0  0]\n",
      " [ 1 67  3]\n",
      " [ 0  2 46]]\n",
      "\n",
      "Normalized confusion matrix:\n",
      "[[1.         0.         0.        ]\n",
      " [0.01408451 0.94366197 0.04225352]\n",
      " [0.         0.04166667 0.95833333]]\n",
      "\n"
     ]
    },
    {
     "data": {
      "image/png": "[encoded data removed]",
      "text/plain": [
       "<Figure size 1080x360 with 4 Axes>"
      ]
     },
     "metadata": {
      "needs_background": "light"
     },
     "output_type": "display_data"
    }
   ],
   "source": [
    "from sklearn.metrics import plot_confusion_matrix\n",
    "\n",
    "# Define class labels for confusion matrices\n",
    "classes = ['Class 0','Class 1','Class 2']\n",
    "\n",
    "# Define plotting options (title, normalization, axes index)\n",
    "options = [(\"Confusion matrix\", None, 0),\n",
    "           (\"Normalized confusion matrix\", 'true', 1)]\n",
    "\n",
    "# Plot confusion matrices\n",
    "fig, axes = plt.subplots(1, 2, figsize=(15, 5))  # Create subplots (1 row, 2 columns)\n",
    "plt.rc('font', size=14)  # Set fontsize\n",
    "for title, normalize, ax_idx in options:\n",
    "    # main parameters of function `plot_confusion_matrix` are:\n",
    "    # trained classifier (log_reg), data (X, y)\n",
    "    disp = plot_confusion_matrix(log_reg, X, y,\n",
    "                                 display_labels=classes,\n",
    "                                 cmap=plt.cm.Blues,\n",
    "                                 normalize=normalize, ax=axes[ax_idx])\n",
    "    disp.ax_.set_title(title)\n",
    "    print(title + \":\")\n",
    "    # Disp.confusion_matrix returns confusion matrix as np.array\n",
    "    print(f\"{disp.confusion_matrix}\\n\")\n",
    "\n",
    "plt.show()"
   ]
  },
  {
   "cell_type": "markdown",
   "metadata": {},
   "source": [
    "We can see from the confusion matrices that our logistic regression model is able to classify all data points with the true label $y=0$ correctly, whereas there are some misclassifications for the other labels. Observe that since the the number of data points in each class are slightly different, the normalized confusion matrix makes it much easier to interpret the comparative performance of the model on data points with different labels."
   ]
  },
  {
   "cell_type": "markdown",
   "metadata": {
    "nbgrader": {
     "grade": false,
     "grade_id": "cell-a0ee4435a6c55ab0",
     "locked": true,
     "schema_version": 3,
     "solution": false
    }
   },
   "source": [
    "## Reliability of (Confidence in) Classifications\n",
    "\n",
    "We now show how to use logistic regression to get a measure of reliability of the predicted label $\\hat{y}$. \n",
    "\n",
    "In particular, given an image with features $\\mathbf{x}$, logistic regression computes the predicted label $\\hat{y}$ using the sign of $h^{(\\mathbf{w})}(\\mathbf{x})=\\mathbf{w}^{T} \\mathbf{x}$. Moreover, we can use the magnitude of $h^{(\\mathbf{w})}=\\mathbf{w}^{T} \\mathbf{x}$ as a measure for the reliability of the classification. If this value is too small, we conclude that logistic regression was not able to reliably classify the image and we should send it to a human for a more rigorous analysis. \n",
    "\n",
    "In what follows, we will apply a Python library function `log_reg.predict_proba(X)` to compute a confidence measure for the resulting classification $\\hat{y}$. Instead of using the magnitude of $h^{(\\mathbf{w})}=\\mathbf{w}^{T} \\mathbf{x}$, they use a related but different measure for the reliability. In particular, for a binary classification problem, this method computes the (estimated) probability ${\\rm Prob}(y=1; \\mathbf{w})= \\frac{1}{1+{\\rm exp}(-\\mathbf{w}^{T}\\mathbf{x})}$ that the true label is $1$. "
   ]
  },
  {
   "cell_type": "markdown",
   "metadata": {
    "nbgrader": {
     "grade": false,
     "grade_id": "cell-5e63cf757270a439",
     "locked": true,
     "schema_version": 3,
     "solution": false
    }
   },
   "source": [
    "<a id='logregprobs'></a>\n",
    "<div class=\" alert alert-warning\">\n",
    "<b>Student Task.</b> Confidence in Classifications. \n",
    "\n",
    "Logistic regression uses a probabilistic model that allows to compute the (estimated) probabilities ${\\rm Prob}(y=c|\\widehat{\\mathbf{w}})$ that the true label $y$ takes on a particular value $c$, e.g., $c=0,1,2$ in the image labelling application. Given an image with features $\\mathbf{x}$, we choose the predicted label $\\hat{y}$ as the particular value $c \\in \\{0,1,2\\}$ which yields the maximum probability ${\\rm Prob}(y=c|\\widehat{\\mathbf{w}})$. However, if this maximum probability ${\\rm Prob}(y=\\widehat{y}|\\widehat{\\mathbf{w}})$ is close to $1/2$ then the classification should be considered highly unreliable. \n",
    " \n",
    "Your task is to calculate the number of data points for which the confidence of the prediction is less than $90\\%$ (i.e. the predicted probability of the predicted label is less than $0.9$). This can be done with the following steps:\n",
    "    \n",
    "- Use the function `log_reg.predict_proba(X)` to obtain the predicted probabilities of the data points belonging to each class. In this problem, the function returns a numpy array of shape (m,3) in which the $i$:th row contains the probabilities of the $i$:th data point belonging to each class.\n",
    "    \n",
    "    \n",
    "- Count the data points for which the predictions have a confidence of less than 90%. E.g., if predictions for a data point are \"class 0\": 89%, \"class 1\": 6% and \"class 2\": 5%, then the sample is discarded since we are not confident enough in the classification (which would be $\\hat{y}=0$ in this case). Store the total number of discarded data points in the variable `n_discarded`. Observe that you only need to count the data points and not actually discard them from the dataset.\n",
    "\n",
    "\n",
    "Hint: For more information, we refer to the [documentation](https://scikit-learn.org/stable/modules/generated/sklearn.linear_model.LogisticRegression.html#sklearn.linear_model.LogisticRegression.predict_proba).\n",
    "</div>"
   ]
  },
  {
   "cell_type": "code",
   "execution_count": 18,
   "metadata": {
    "nbgrader": {
     "grade": false,
     "grade_id": "cell-dfba9a6dac8bc476",
     "locked": false,
     "schema_version": 3,
     "solution": true
    }
   },
   "outputs": [
    {
     "name": "stdout",
     "output_type": "stream",
     "text": [
      "First five samples and their probabilities of belonging to classes 0, 1 and 2:\n",
      "Probabilities of Sample 1: Class 0: 99.05%, Class 1: 0.31%, Class 2: 0.64%\n",
      "Probabilities of Sample 2: Class 0: 92.98%, Class 1: 6.95%, Class 2: 0.07%\n",
      "Probabilities of Sample 3: Class 0: 88.06%, Class 1: 11.83%, Class 2: 0.11%\n",
      "Probabilities of Sample 4: Class 0: 99.5%, Class 1: 0.43%, Class 2: 0.07%\n",
      "Probabilities of Sample 5: Class 0: 93.8%, Class 1: 3.58%, Class 2: 2.62%\n",
      "Number of discarded samples: 58\n"
     ]
    }
   ],
   "source": [
    "# Predict the probabilities\n",
    "# y_probs = ...\n",
    "### BEGIN SOLUTION\n",
    "y_probs = log_reg.predict_proba(X)\n",
    "### END SOLUTION\n",
    "\n",
    "# Show the predicted probabilities of the first five data points\n",
    "print('First five samples and their probabilities of belonging to classes 0, 1 and 2:')\n",
    "for i in range(5):\n",
    "    print(f\"Probabilities of Sample {i+1}: Class 0: {round(100*y_probs[i][0],2)}%, Class 1: {round(100*y_probs[i][1],2)}%, Class 2: {round(100*y_probs[i][2],2)}%\")\n",
    "\n",
    "n_discarded = 0\n",
    "### BEGIN SOLUTION\n",
    "n_discarded = sum(np.max(y_probs, axis=1) < 0.9)\n",
    "### END SOLUTION\n",
    "print('Number of discarded samples:', n_discarded)"
   ]
  },
  {
   "cell_type": "code",
   "execution_count": 19,
   "metadata": {
    "nbgrader": {
     "grade": true,
     "grade_id": "cell-ef79bd22eecd6d3d",
     "locked": true,
     "points": 3,
     "schema_version": 3,
     "solution": false
    }
   },
   "outputs": [
    {
     "name": "stdout",
     "output_type": "stream",
     "text": [
      "Sanity check tests passed!\n"
     ]
    }
   ],
   "source": [
    "# Perform some sanity checks on the outputs\n",
    "assert n_discarded > 10, 'Number of discarded samples should be above 10.'\n",
    "print('Sanity check tests passed!')\n",
    "\n",
    "### BEGIN HIDDEN TESTS\n",
    "assert n_discarded == 58, 'Number of discarded samples should be 58.'\n",
    "### END HIDDEN TESTS"
   ]
  },
  {
   "cell_type": "markdown",
   "metadata": {
    "nbgrader": {
     "grade": false,
     "grade_id": "cell-ed0fbfd2850ca1d9",
     "locked": true,
     "schema_version": 3,
     "solution": false
    }
   },
   "source": [
    "## Decision Trees\n",
    "\n",
    "We will learn another classification method which is referred to as **decision trees**. A decision tree is a flowchart-like representation of a predictor function $h(\\mathbf{x})$ that reads in the features $\\mathbf{x}$ of a data point and ouputs a predicted label $\\hat{y}=h(\\mathbf{x})$. The decision tree consists of **nodes** which represent certain tests, e.g., \"is the first feature $x_{1}$ larger than 10?\". The nodes are connected by **branches** that correspond to the result or outcome of a test (there is one outgoing branch for each possible answer of a test node). By following the branches, we end up at a leaf node (which has no further branches). Each leaf node is associated with a certain output value $h(\\mathbf{x})$. The picture below depicts a decision tree with test nodes colored blue and leaf nodes colored orange and green. \n",
    "\n",
    "<img src=\"../../data/R3_Classification/Decision_Tree.png\" alt=\"Drawing\" style=\"width: 400px;\"/>\n",
    "\n",
    "Now you might wonder how do we choose the test nodes? The basic idea is the same as in linear or logistic regression, we try out many different decision trees (using different choices of test nodes) and pick the one which results in the smallest average loss incurred on some labeled training data points $(\\mathbf{x}^{(i)},y^{(i)})$. However, in contrast to logistic regression, this learning or optimization problem involves searching over a discrete set of different configurations of test nodes instead of a continuous convex optimization of a weight vector $\\mathbf{w}$. This makes learning decision trees computationally more challenging compared to logistic regression which allows to use efficient convex optimization methods (such as plain gradient descent). However, there have been developed clever ways to learn good decision trees with a reasonable amout of computational resources.  \n",
    "\n",
    "Video on basic concept of decision trees:\n",
    "\n",
    "- https://www.youtube.com/watch?v=9w16p4QmkAI\n",
    "\n",
    "If you want to learn more details about decision trees, beyond the requirements of this course, we refer you to: \n",
    "\n",
    "- https://en.wikipedia.org/wiki/Decision_tree_learning#Gini_impurity\n",
    "- https://en.wikipedia.org/wiki/Decision_tree_learning#Information_gain\n",
    "- https://sebastianraschka.com/faq/docs/decisiontree-error-vs-entropy.html"
   ]
  },
  {
   "cell_type": "markdown",
   "metadata": {
    "nbgrader": {
     "grade": false,
     "grade_id": "cell-9970cfed7abbad39",
     "locked": true,
     "schema_version": 3,
     "solution": false
    }
   },
   "source": [
    "<a id='demotreeboundary'></a>\n",
    "<div class=\" alert alert-info\">\n",
    "<b>Demo.</b> Decision Boundary of a Decision Tree.\n",
    "\n",
    "The code snippet below learns a predictor function $h(\\mathbf{x})$ using decision trees based on the first two features $x_{1}$ and $x_{2}$ of the images. It then creates a scatter plot of the training samples $(\\mathbf{x}^{(i)},y^{(i)}$. All samples with $y^{(i)} = 1$ are indicated by \"x\" while all samples with true label $y^{(i)} =0$ are indicated by \"o\". The scatter plot also indicates the decision boundary $\\{\\mathbf{x}: \\widehat{\\mathbf{w}}^{T} \\mathbf{x}=0 \\}$. \n",
    "\n",
    "Note that the training data is not perfectly separable by a linear decision boundary. \n",
    "\n",
    "</div>"
   ]
  },
  {
   "cell_type": "code",
   "execution_count": 20,
   "metadata": {},
   "outputs": [],
   "source": [
    "def plot_decision_boundary(clf, X, Y, cmap='Paired_r'):\n",
    "    \"\"\"Function with which to plot decision boundary\"\"\"\n",
    "    h = 0.02\n",
    "    x_min, x_max = X[:,0].min() - 10*h, X[:,0].max() + 10*h\n",
    "    y_min, y_max = X[:,1].min() - 10*h, X[:,1].max() + 10*h\n",
    "    x = np.arange(x_min, x_max, h)\n",
    "    y = np.arange(y_min, y_max, h)\n",
    "    xx, yy = np.meshgrid(x, y)\n",
    "    Z = clf.predict(np.c_[xx.ravel(), yy.ravel()])\n",
    "    Z = Z.reshape(xx.shape)\n",
    "    \n",
    "    idx_1 = np.where(Y == 1)[0] # index of each class 0 iamge.\n",
    "    idx_2 = np.where(Y == 0)[0] # index of each not class 0 image\n",
    "    \n",
    "    plt.figure(figsize=(10,6))\n",
    "    plt.contourf(xx, yy, Z, cmap=cmap, alpha=0.25)\n",
    "    plt.contour(xx, yy, Z, colors='k', linewidths=0.5)\n",
    "    plt.scatter(X[idx_1, 0], X[idx_1, 1], marker='x', label='class 0', edgecolors='k')\n",
    "    plt.scatter(X[idx_2, 0], X[idx_2, 1], marker='o', label='class 1', edgecolors='k')\n",
    "    plt.xlabel(r'Feature 1')\n",
    "    plt.ylabel(r'Feature 2')"
   ]
  },
  {
   "cell_type": "code",
   "execution_count": 21,
   "metadata": {
    "nbgrader": {
     "grade": false,
     "grade_id": "cell-ec23f55820ad7734",
     "locked": true,
     "schema_version": 3,
     "solution": false
    }
   },
   "outputs": [
    {
     "name": "stdout",
     "output_type": "stream",
     "text": [
      "Accuracy: 100.0%\n"
     ]
    },
    {
     "data": {
      "image/png": "[encoded data removed]",
      "text/plain": [
       "<Figure size 720x432 with 1 Axes>"
      ]
     },
     "metadata": {
      "needs_background": "light"
     },
     "output_type": "display_data"
    }
   ],
   "source": [
    "# Load data and select only the first two features\n",
    "X = feature_matrix()\n",
    "X = X[:,:2]\n",
    "y = labels()\n",
    "\n",
    "clf = DecisionTreeClassifier(random_state=0)   # define object \"clf\" which represents a decision tree\n",
    "clf.fit(X, y)                    # learn a decision tree that fits well the labeled images  \n",
    "y_pred = clf.predict(X)          # compute the predicted labels for the images\n",
    "\n",
    "# Calculate the accuracy score of the predictions\n",
    "accuracy = metrics.accuracy_score(y, y_pred)\n",
    "print(f\"Accuracy: {round(100*accuracy, 2)}%\")\n",
    "\n",
    "# Plot decision boundary\n",
    "plot_decision_boundary(clf, X, y)\n",
    "plt.show()"
   ]
  },
  {
   "cell_type": "markdown",
   "metadata": {
    "nbgrader": {
     "grade": false,
     "grade_id": "cell-66550b25821ecf7d",
     "locked": true,
     "schema_version": 3,
     "solution": false
    }
   },
   "source": [
    "<a id='dtclassifier'></a>\n",
    "<div class=\" alert alert-warning\">\n",
    "<b>Student Task.</b> Decision Tree Classifier.\n",
    "    \n",
    "Create a decision tree classifier using the sklearn DecisionTreeClassifier imported in the previous cell. Use the following parameters for the classifier: `DecisionTreeClassifier(random_state=0, criterion='entropy')`. The argument `criterion` corresponds to a particular choice for the loss function to be used. For background information consult the [`documentation`](https://scikit-learn.org/stable/modules/generated/sklearn.tree.DecisionTreeClassifier.html).\n",
    "\n",
    "Choose or learn a good decision tree using the [`fit`](https://scikit-learn.org/stable/modules/generated/sklearn.tree.DecisionTreeClassifier.html#sklearn.tree.DecisionTreeClassifier.fit) function. Using the learnt decision tree, compute the predicted labels $\\hat{y}^{(i)}$ for the training data using the function [`DecisionTreeClassifier.predict`](https://scikit-learn.org/stable/modules/generated/sklearn.tree.DecisionTreeClassifier.html#sklearn.tree.DecisionTreeClassifier.predict) and save it to numpy array `y_pred`.\n",
    "</div>"
   ]
  },
  {
   "cell_type": "code",
   "execution_count": 22,
   "metadata": {
    "nbgrader": {
     "grade": false,
     "grade_id": "cell-53c7cbd776f98a85",
     "locked": false,
     "schema_version": 3,
     "solution": true
    }
   },
   "outputs": [
    {
     "name": "stdout",
     "output_type": "stream",
     "text": [
      "Accuracy: 100.0 %\n"
     ]
    }
   ],
   "source": [
    "# Load data to feature matrix X and label vector y \n",
    "X = feature_matrix()\n",
    "y = pd.read_csv(\"../../data/R3_Classification/image_labels.csv\", header = None).to_numpy()\n",
    "y = y.reshape(-1)\n",
    "feature_cols = [\"x\" + str(i) for i in range(len(X[0,:]))] # needed for visualization\n",
    "\n",
    "### STUDENT TASK ###\n",
    "# clf = ...\n",
    "# clf. ...\n",
    "# y_pred = ...\n",
    "# accuracy = ...\n",
    "### BEGIN SOLUTION\n",
    "clf = DecisionTreeClassifier(random_state=0, criterion='entropy')\n",
    "clf_fit = clf.fit(X, y)\n",
    "y_pred = clf_fit.predict(X)\n",
    "accuracy = metrics.accuracy_score(y, y_pred)\n",
    "### END SOLUTION\n",
    "\n",
    "# Model Accuracy, how often is the classifier correct?\n",
    "print(\"Accuracy:\", round(100*accuracy, 2), '%')"
   ]
  },
  {
   "cell_type": "code",
   "execution_count": 23,
   "metadata": {
    "nbgrader": {
     "grade": true,
     "grade_id": "cell-785d28c1d47fecbf",
     "locked": true,
     "points": 3,
     "schema_version": 3,
     "solution": false
    }
   },
   "outputs": [
    {
     "name": "stdout",
     "output_type": "stream",
     "text": [
      "Sanity check tests passed!\n"
     ]
    }
   ],
   "source": [
    "# Perform some sanity checks on the outputs\n",
    "assert X.shape == (178, 13), \"Training set label matrix has wrong dimensions.\"\n",
    "assert y.shape == (178,), \"label vector has wrong dimensions.\"\n",
    "assert y_pred.shape == (178,), \"Prediction vector has wrong dimensions.\"\n",
    "print('Sanity check tests passed!')\n",
    "\n",
    "### BEGIN HIDDEN TESTS\n",
    "np.testing.assert_allclose(accuracy*100, 100.0, atol=0.1)\n",
    "### END HIDDEN TESTS"
   ]
  },
  {
   "cell_type": "markdown",
   "metadata": {
    "nbgrader": {
     "grade": false,
     "grade_id": "cell-9967527de1fab4cc",
     "locked": true,
     "schema_version": 3,
     "solution": false
    }
   },
   "source": [
    "<a id='dtcm'></a>\n",
    "<div class=\" alert alert-warning\">\n",
    "<b>Student Task.</b> Confusion Matrix.\n",
    "\n",
    "Use the `plot_confusion_matrix` function from the module `sklearn.metrics` to calculate and visualize the non-normalized confusion matrix for the decision tree classifier from the previous task (`clf`) on the data `X, y`. Store the array-representation of the confusion matrix in a variable `cm`.\n",
    "\n",
    "Hints:\n",
    "\n",
    "* The implementation is similar to Demo. Confusion Matrix. \n",
    "* The object returned by `plot_confusion_matrix` (`display`) can be used to access the array-representation of the confusion matrix with `display.confusion_matrix`.\n",
    "</div>"
   ]
  },
  {
   "cell_type": "code",
   "execution_count": 24,
   "metadata": {
    "nbgrader": {
     "grade": false,
     "grade_id": "cell-aaf67e0222724ba5",
     "locked": false,
     "schema_version": 3,
     "solution": true,
     "task": false
    }
   },
   "outputs": [
    {
     "name": "stdout",
     "output_type": "stream",
     "text": [
      "Confusion matrix, without normalization:\n",
      "[[59  0  0]\n",
      " [ 0 71  0]\n",
      " [ 0  0 48]]\n"
     ]
    },
    {
     "data": {
      "image/png": "[encoded data removed]",
      "text/plain": [
       "<Figure size 576x360 with 2 Axes>"
      ]
     },
     "metadata": {
      "needs_background": "light"
     },
     "output_type": "display_data"
    }
   ],
   "source": [
    "# Define class names and title for confusion matrix\n",
    "classes = ['Class 0','Class 1','Class 2']\n",
    "title = \"Confusion matrix, without normalization\"\n",
    "\n",
    "fig, axes = plt.subplots(1, 1, figsize=(8, 5)) \n",
    "\n",
    "# Create a display object with plot_confusion_matrix\n",
    "# Set parameters display_labels=classes, cmap=plt.cm.Blues, ax=axes \n",
    "# disp = ...\n",
    "# cm = ...\n",
    "### BEGIN SOLUTION\n",
    "disp = plot_confusion_matrix(clf, X, y,\n",
    "                             display_labels=classes,\n",
    "                             cmap=plt.cm.Blues, ax=axes)\n",
    "cm = disp.confusion_matrix\n",
    "### END SOLUTION\n",
    "\n",
    "# Print title and confusion matrix\n",
    "print(f\"{title}:\")\n",
    "print(cm)\n",
    "\n",
    "plt.show()"
   ]
  },
  {
   "cell_type": "code",
   "execution_count": 25,
   "metadata": {
    "nbgrader": {
     "grade": true,
     "grade_id": "cell-695db031852aab15",
     "locked": true,
     "points": 1,
     "schema_version": 3,
     "solution": false
    }
   },
   "outputs": [
    {
     "name": "stdout",
     "output_type": "stream",
     "text": [
      "Sanity check tests passed!\n"
     ]
    }
   ],
   "source": [
    "# Perform some sanity checks on the result\n",
    "assert cm.shape == (3,3), \"Confusion Matrix has wrong dimensions.\"\n",
    "print('Sanity check tests passed!')\n",
    "\n",
    "### BEGIN HIDDEN TESTS\n",
    "from sklearn.metrics import confusion_matrix \n",
    "r_cm = confusion_matrix(y, y_pred) \n",
    "np.testing.assert_allclose(r_cm, cm, atol=1)\n",
    "### END HIDDEN TESTS"
   ]
  },
  {
   "cell_type": "markdown",
   "metadata": {
    "nbgrader": {
     "grade": false,
     "grade_id": "cell-77e3903a0aa76769",
     "locked": true,
     "schema_version": 3,
     "solution": false
    }
   },
   "source": [
    "<a id='dtvis'></a>\n",
    "<div class=\" alert alert-info\">\n",
    "    \n",
    "### Demo. Visualizing the decision tree. \n",
    "    \n",
    "One of the advantages of the decision tree classifier is its interpretability. In the code snippet below, we visualize the fitted decision tree using the `plot_tree()` function from the `tree` module in scikit-learn.\n",
    "    \n",
    "In each node of the tree, the top row describes the decision rule of the cell. For instance, the root node splits the dataset based on whether the value of the 6th feature is larger or smaller that $-0.456$. The `samples` field indicates how many data points are allocated to that particular node, and the `value` field indicates how these are distributed with respect to the true labels. The `class` field specifies the class to which the data points in the node are classified at that level of the tree. The leaf nodes of the tree define the final labels of the data points.\n",
    "    \n",
    "</div>"
   ]
  },
  {
   "cell_type": "code",
   "execution_count": 26,
   "metadata": {
    "nbgrader": {
     "grade": false,
     "grade_id": "cell-cb4bc6e0bf21e9a6",
     "locked": true,
     "schema_version": 3,
     "solution": false
    }
   },
   "outputs": [
    {
     "data": {
      "image/png": "[encoded data removed]",
      "text/plain": [
       "<Figure size 1008x792 with 1 Axes>"
      ]
     },
     "metadata": {
      "needs_background": "light"
     },
     "output_type": "display_data"
    }
   ],
   "source": [
    "from sklearn.tree import plot_tree\n",
    "\n",
    "X = feature_matrix()\n",
    "feature_cols = [\"x\" + str(i) for i in range(len(X[0,:]))] # needed for visualization\n",
    "label_names = ['0', '1', '2']\n",
    "\n",
    "# Visualize the decision tree\n",
    "plt.figure(figsize=(14,11))\n",
    "plot_tree(clf, filled=True, rounded=True, feature_names=feature_cols, class_names=label_names)\n",
    "plt.show()"
   ]
  },
  {
   "cell_type": "markdown",
   "metadata": {
    "nbgrader": {
     "grade": false,
     "grade_id": "cell-d5344511aa2b9686",
     "locked": true,
     "schema_version": 3,
     "solution": false
    }
   },
   "source": [
    "### Difference between logistic regression and decision trees\n",
    "\n",
    "The two classification methods logistic regression and decision trees both aim at learning a good predictor $h(\\mathbf{x})$ which allows determining the label $y$ of the data point based on some features $\\mathbf{x}$. These two classification methods differ in the form of predictor function $h(\\mathbf{x})$ they are using. Logistic regression uses linear predictor functions $h(\\mathbf{x})=\\mathbf{w}^{T} \\mathbf{x}$ (which are thresholded to get discrete label predictions $\\hat{y}$). \n",
    "\n",
    "In contrast to linear functions used in logistic regression, decision trees use predictor functions that are obtained from flow charts (decision trees) consisting of various tests on the features $\\mathbf{x}$. Using sufficiently large decision trees allows to represent highly non-linear functions $h(\\mathbf{x})$. In particular, decision trees can perfectly separate data points (according to their labels) which cannot be separated by any straight line (which are the only possible decision boundaries for logistic regression). \n",
    "\n",
    "<table><tr>\n",
    "    <td><img src='../../data/R3_Classification/lr1.png' style=\"width: 400px;\"></td>\n",
    "    <td><img src='../../data/R3_Classification/tree1.png' style=\"width: 400px;\"></td>\n",
    "</tr></table>"
   ]
  },
  {
   "cell_type": "markdown",
   "metadata": {
    "nbgrader": {
     "grade": false,
     "grade_id": "cell-61864c669c276aa4",
     "locked": true,
     "schema_version": 3,
     "solution": false,
     "task": false
    }
   },
   "source": [
    "<a id='Bonus trees'></a>\n",
    "<div class=\" alert alert-warning\">\n",
    "    <b>Bonus Task.</b> Decision trees. \n",
    "    \n",
    "Bonus task worth of 50 points.\n",
    "    \n",
    "We can see that with descision trees classification we can achieve 100% accuracy on training dataset. Not surprisingly, this can lead to overfitting and poor performance on validation datasets. Explain, how to regulate decision tree complexity and avoid overfitting?\n",
    "</div>"
   ]
  },
  {
   "cell_type": "markdown",
   "metadata": {
    "nbgrader": {
     "grade": false,
     "grade_id": "cell-75e7a30646e71d67",
     "locked": true,
     "schema_version": 3,
     "solution": false
    }
   },
   "source": [
    "## Take Home Quiz "
   ]
  },
  {
   "cell_type": "markdown",
   "metadata": {
    "nbgrader": {
     "grade": false,
     "grade_id": "cell-30450576e6be42cf",
     "locked": true,
     "schema_version": 3,
     "solution": false
    }
   },
   "source": [
    "Try to answer the following questions by setting the `answer_R3_Q??` variable for each question to the number of the correct answer. For example, if you think that the second answer in the first quizz question is the right one, then set `answer_R3_Q1=2`. "
   ]
  },
  {
   "cell_type": "markdown",
   "metadata": {
    "nbgrader": {
     "grade": false,
     "grade_id": "cell-fe3d2c11cdd46ede",
     "locked": true,
     "schema_version": 3,
     "solution": false
    }
   },
   "source": [
    "<a id='QuestionR3_1'></a>\n",
    "<div class=\" alert alert-warning\">\n",
    "<b>Student Task.</b> Question R3.1. \n",
    "\n",
    "<p>How many features can be used for logistic regression?</p>\n",
    "\n",
    "<ol>\n",
    "  <li>None</li>\n",
    "  <li>One (1)</li>\n",
    "  <li>Thirteen (13)</li>\n",
    "  <li>Any number of features (given enough computational resources)</li>\n",
    "</ol> \n",
    "\n",
    "</div>"
   ]
  },
  {
   "cell_type": "code",
   "execution_count": null,
   "metadata": {
    "nbgrader": {
     "grade": false,
     "grade_id": "cell-ed5e2813d39894af",
     "locked": false,
     "schema_version": 3,
     "solution": true
    }
   },
   "outputs": [],
   "source": [
    "# answer_Q1\n",
    "\n",
    "# answer_R3_Q1  = ...\n",
    "### BEGIN SOLUTION\n",
    "\n",
    "answer_R3_Q1 = 4\n",
    "\n",
    "### END SOLUTION"
   ]
  },
  {
   "cell_type": "code",
   "execution_count": null,
   "metadata": {
    "nbgrader": {
     "grade": true,
     "grade_id": "cell-436d8f13df175189",
     "locked": true,
     "points": 1,
     "schema_version": 3,
     "solution": false
    }
   },
   "outputs": [],
   "source": [
    "# this cell is for tests\n",
    "assert answer_R3_Q1 in [1,2,3,4], '\"answer_R3_Q1\" Value should be an integer between 1 and 4.'\n",
    "print('Sanity check tests passed!')\n",
    "\n",
    "### BEGIN HIDDEN TESTS\n",
    "assert answer_R3_Q1 in [1,2,3,4], '\"answer_R3_Q1\" Value should be an integer between 1 and 4.'\n",
    "assert answer_R3_Q1 == 4, ' \"answer_R3_Q1\" Correct answer is 4.'\n",
    "### END HIDDEN TESTS"
   ]
  },
  {
   "cell_type": "markdown",
   "metadata": {
    "nbgrader": {
     "grade": false,
     "grade_id": "cell-5241e1c99a943e6d",
     "locked": true,
     "schema_version": 3,
     "solution": false
    }
   },
   "source": [
    "<a id='QuestionR3_2'></a>\n",
    "<div class=\" alert alert-warning\">\n",
    "<b>Student Task.</b> Question R3.2. \n",
    "\n",
    "<p>When performing logistic regression, we are trying to....</p>\n",
    "\n",
    "<ol>\n",
    "  <li>Solving a minimum likelihood problem.</li>\n",
    "  <li>Maximize the average logistic loss.</li>\n",
    "  <li>Minimize the average logistic loss.</li>\n",
    "</ol> \n",
    "\n",
    "</div>"
   ]
  },
  {
   "cell_type": "code",
   "execution_count": null,
   "metadata": {
    "nbgrader": {
     "grade": false,
     "grade_id": "cell-28b9b67d4ee831b7",
     "locked": false,
     "schema_version": 3,
     "solution": true
    }
   },
   "outputs": [],
   "source": [
    "# answer_Q2\n",
    "\n",
    "# answer_R3_Q2 = ...\n",
    "### BEGIN SOLUTION\n",
    "answer_R3_Q2 = 3\n",
    "### END SOLUTION"
   ]
  },
  {
   "cell_type": "code",
   "execution_count": null,
   "metadata": {
    "nbgrader": {
     "grade": true,
     "grade_id": "cell-4716309299410987",
     "locked": true,
     "points": 1,
     "schema_version": 3,
     "solution": false
    },
    "scrolled": true
   },
   "outputs": [],
   "source": [
    "# this cell is for tests\n",
    "assert answer_R3_Q2 in [1,2,3], '\"answer_R3_Q2\" Value should be an integer between 1 and 3.'\n",
    "print('Sanity check tests passed!')\n",
    "\n",
    "### BEGIN HIDDEN TESTS\n",
    "assert answer_R3_Q2 in [1,2,3], '\"answer_R3_Q2\" Value should be an integer between 1 and 3.'\n",
    "assert answer_R3_Q2 == 3, ' \"answer_R3_Q2\" Correct answer is 3.'\n",
    "### END HIDDEN TESTS"
   ]
  },
  {
   "cell_type": "markdown",
   "metadata": {
    "nbgrader": {
     "grade": false,
     "grade_id": "cell-07adb8f984372edf",
     "locked": true,
     "schema_version": 3,
     "solution": false
    }
   },
   "source": [
    "<a id='QuestionR3_3'></a>\n",
    "<div class=\" alert alert-warning\">\n",
    "<b>Student Task.</b> Question R3.3. \n",
    "\n",
    "<p>Consider an arbitrary set of $m$ labeled data points having two features $\\mathbf{x}^{(i)} \\in \\big(x^{(i)}_{1},x^{(i)}_{2}\\big)^{T}$ and a binary label $y^{(i)} \\in \\{0,1\\}$. How large can the sample size $m$ be such that we can for sure always find a straight line such that all points $\\mathbf{x}^{(i)}$ with the same label $y^{(i)}$ lie on the same side (but not on top) of the line. </p>\n",
    "\n",
    "<ol>\n",
    "  <li>$m \\leq 2$</li>\n",
    "  <li>$m = 3$</li>\n",
    "  <li>$m = 4$</li>\n",
    "  <li>$m = 6$</li>\n",
    "</ol> \n",
    "\n",
    "</div>"
   ]
  },
  {
   "cell_type": "code",
   "execution_count": null,
   "metadata": {
    "nbgrader": {
     "grade": false,
     "grade_id": "cell-f9e25d95622fae74",
     "locked": false,
     "schema_version": 3,
     "solution": true
    }
   },
   "outputs": [],
   "source": [
    "# answer_Q3\n",
    "\n",
    "# answer_R3_Q3  = ...\n",
    "### BEGIN SOLUTION\n",
    "answer_R3_Q3 = 1\n",
    "### END SOLUTION"
   ]
  },
  {
   "cell_type": "code",
   "execution_count": null,
   "metadata": {
    "nbgrader": {
     "grade": true,
     "grade_id": "cell-909e127af7a42f2d",
     "locked": true,
     "points": 1,
     "schema_version": 3,
     "solution": false
    }
   },
   "outputs": [],
   "source": [
    "# this cell is for tests\n",
    "\n",
    "\n",
    "assert answer_R3_Q3 in [1,2,3,4], '\"answer_R3_Q3\" Value should be an integer between 1 and 4.'\n",
    "print('Sanity check tests passed!')\n",
    "\n",
    "### BEGIN HIDDEN TESTS\n",
    "assert answer_R3_Q3 in [1,2,3,4], '\"answer_R3_Q3\" Value should be an integer between 1 and 4.'\n",
    "assert answer_R3_Q3 == 1, '\"answer_R3_Q3\" Correct answer is 1.'\n",
    "### END HIDDEN TESTS"
   ]
  },
  {
   "cell_type": "markdown",
   "metadata": {
    "nbgrader": {
     "grade": false,
     "grade_id": "cell-5c0377d1f8952d32",
     "locked": true,
     "schema_version": 3,
     "solution": false,
     "task": false
    }
   },
   "source": [
    "<a id='QuestionR3.4.'></a>\n",
    "<div class=\" alert alert-warning\">\n",
    "<b>Student Task.</b> Question R3.4. \n",
    "Maximizing the probability (or likelihood) of the labels $y^{(i)}$, for $i=1,\\ldots,m$ belonging to a class is:\n",
    "\n",
    "1. Equivalent to maximizing logistic loss\n",
    "2. Equivalent to minimizing logistic loss\n",
    "3. Maximum likelihood problem is not related to logistic loss\n",
    "</div>"
   ]
  },
  {
   "cell_type": "code",
   "execution_count": null,
   "metadata": {
    "nbgrader": {
     "grade": false,
     "grade_id": "cell-47b671d4c55f6b4d",
     "locked": false,
     "schema_version": 3,
     "solution": true,
     "task": false
    }
   },
   "outputs": [],
   "source": [
    "# answer_Q4\n",
    "\n",
    "# answer_R3_Q4 = ...\n",
    "### BEGIN SOLUTION\n",
    "answer_R3_Q4 = 2\n",
    "### END SOLUTION"
   ]
  },
  {
   "cell_type": "code",
   "execution_count": null,
   "metadata": {
    "nbgrader": {
     "grade": true,
     "grade_id": "cell-39ba770c34d6dcb1",
     "locked": true,
     "points": 1,
     "schema_version": 3,
     "solution": false,
     "task": false
    }
   },
   "outputs": [],
   "source": [
    "# this cell is for tests\n",
    "assert answer_R3_Q4 in [1,2,3], '\"answer_R3_Q4\" Value should be an integer between 1 and 3.'\n",
    "print('Sanity check tests passed!')\n",
    "\n",
    "### BEGIN HIDDEN TESTS\n",
    "assert answer_R3_Q4 in [1,2,3], '\"answer_R3_Q4\" Value should be an integer between 1 and 3.'\n",
    "assert answer_R3_Q4 == 2, ' \"answer_R3_Q4\" Correct answer is 2.'\n",
    "### END HIDDEN TESTS"
   ]
  }
 ],
 "metadata": {
  "celltoolbar": "Create Assignment",
  "kernelspec": {
   "display_name": "Python 3",
   "language": "python",
   "name": "python3"
  },
  "language_info": {
   "codemirror_mode": {
    "name": "ipython",
    "version": 3
   },
   "file_extension": ".py",
   "mimetype": "text/x-python",
   "name": "python",
   "nbconvert_exporter": "python",
   "pygments_lexer": "ipython3",
   "version": "3.7.1"
  },
  "toc": {
   "base_numbering": 1,
   "nav_menu": {},
   "number_sections": false,
   "sideBar": true,
   "skip_h1_title": false,
   "title_cell": "Table of Contents",
   "title_sidebar": "Contents",
   "toc_cell": false,
   "toc_position": {
    "height": "calc(100% - 180px)",
    "left": "10px",
    "top": "150px",
    "width": "304.8px"
   },
   "toc_section_display": true,
   "toc_window_display": true
  },
  "varInspector": {
   "cols": {
    "lenName": 16,
    "lenType": 16,
    "lenVar": 40
   },
   "kernels_config": {
    "python": {
     "delete_cmd_postfix": "",
     "delete_cmd_prefix": "del ",
     "library": "var_list.py",
     "varRefreshCmd": "print(var_dic_list())"
    },
    "r": {
     "delete_cmd_postfix": ") ",
     "delete_cmd_prefix": "rm(",
     "library": "var_list.r",
     "varRefreshCmd": "cat(var_dic_list()) "
    }
   },
   "types_to_exclude": [
    "module",
    "function",
    "builtin_function_or_method",
    "instance",
    "_Feature"
   ],
   "window_display": false
  }
 },
 "nbformat": 4,
 "nbformat_minor": 2
}
